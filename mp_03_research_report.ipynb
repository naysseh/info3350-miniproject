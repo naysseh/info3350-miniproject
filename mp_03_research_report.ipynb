{
 "cells": [
  {
   "cell_type": "markdown",
   "metadata": {
    "jp-MarkdownHeadingCollapsed": true,
    "tags": []
   },
   "source": [
    "# Mini-project part III: Research report\n",
    "\n",
    "We've put some effort into building our collection of volumes - you can find them in [this Google Drive folder](https://drive.google.com/drive/u/0/folders/1UAaGIiqElF9YLTGIy6hQYM7QcGzosZgR). Now it's time to learn something about it. You already have lots of excellent ideas for how to apply the tools we've learned about so far. It's also a good time in the semester to review what we have learned and practice applying it in less structured settings.\n",
    "\n",
    "**You will work by yourself or in a group of up to three people** to complete a short project applying methods from the previous weeks to this collection. You will turn in the completed project as a single notebook (one submission per group) with the following sections:\n",
    "\n",
    "0. **Project team.** List members with full names and NetIDs. If your group does not contain at least one native speaker of English, let us know.\n",
    "\n",
    "1. **Question(s) (10 points).** Describe what you wanted to learn. Suggest several possible answers or hypotheses, and describe in general terms what you might expect to see if each of these answers were true (save specific measurements for the next section). For example, many students want to know the difference between horror and non-horror fiction, or between detective stories and horror fiction, but there are many ways to operationalize this question. You do not need to limit yourself to questions of genre. **Note that your question should be interesting! If the answer is obvious before you begin, or if it's something the importance of which you cannot explain, your grade will suffer (a lot).** \n",
    "\n",
    "1. **Methods (10 points).** Describe how you will use computational methods presented so far in this class to answer your question. What do the computational tools do, and how does their output relate to your question? Describe how you will process the collection into a form suitable for a model or algorithm and why you have processed it the way you have.\n",
    "\n",
    "1. **Code (20 points).** Carry out your experiments. Code should be correct (no errors) and focused (unneeded code from examples is removed). Use the notebook format effectively: code may be incorporated into multiple sections.\n",
    "\n",
    "1. **Results and discussion (40 points).** Use sorted lists, tables, and visual presentations to make your argument. Excellent projects will provide multiple views of results, and follow up on any apparent outliers or strange cases, including through careful reading of the original documents.\n",
    "\n",
    "1. **Reflection (10 points).** Describe your experience in this process. What was harder or easier than you expected? What compromises or negotiations did you have to accept to match the collection, the question, and the methods? What would you try next? Your reflections should be written as single narrative that incorporates the viewpoints of all group members.\n",
    "\n",
    "1. **Resources consulted (0 points, but -5 if missing).** Credit any online sources (Stack Overflow, blog posts, documentation, etc.) that you found helpful.\n",
    "\n",
    "1. **Responsibility statement (0 points, but -5 if missing).** See separate CMS assignment \"MP 03: Responsibility statement\". **Note:** If you worked alone on the project (a group of one), you are not required to submit the responsibility statement.\n",
    "\n",
    "\n",
    "## Submission instructions\n",
    "\n",
    "1. Complete this Jupyter Notebook.\n",
    "1. Open a group submission on CMS - Let us know if you encounter any problems with that!\n",
    "1. Assign the role of group submitter to a member of your group.\n",
    "1. Submit the completed Jupyter Notebook in the group submission on CMS.\n",
    "\n",
    "**Note:** If you worked alone on the project (a group of one), you are not required to submit the responsibility statement.\n",
    "\n",
    "Otherwise...\n",
    "\n",
    "1. Go to the CMS assignment 'MP 03: Responsibility statement'.\n",
    "1. Complete the statement, describing each group member's contributions as you see them. \n",
    "1. Upload the statement as an **individual** submission on CMS.\n",
    "\n",
    "\n",
    "## Guidance and advice\n",
    "\n",
    "Show us what you've learned so far. Try to use a range of methods while remaining focused on your chosen problem. For inspiration, consider the range of research problems you've enoucountered in the readings. Note that dictionary-based sentiment scoring projects have not historically done well without substantial additional methodological diversity.\n",
    "\n",
    "**We will grade this work based on accuracy, thoroughness, creativity, reflectiveness, and quality of presentation.** Code and results that are merely correct are generally not enough, on their own, to achieve a high score.\n",
    "\n",
    "**Scope:** this is a *mini*-project, with a short deadline. We are expecting work that is consistent with that timeframe, but that is serious, thoughtful, and rigorous. This assignment will almost certainly require more time and effort than the typical weekly homework. **For group work, the expected scope grows linearly with the number of participants.**"
   ]
  },
  {
   "cell_type": "markdown",
   "metadata": {},
   "source": [
    "# 0. Project team\n",
    "\n",
    "List here the members of your project team, including yourself.\n",
    "* Emily Sine (ejs345)\n",
    "* Katie Yao (kwy3)\n",
    "* Natasha Aysseh (nca28)"
   ]
  },
  {
   "cell_type": "markdown",
   "metadata": {},
   "source": [
    "# 1. Question(s) (10 points)"
   ]
  },
  {
   "cell_type": "markdown",
   "metadata": {},
   "source": [
    "## Background\n",
    "\n",
    "In the 1920s, modernism in literature began. World War I had just ended, and America emerged as its own world power. We are interested in looking at the differences between American and British literature, and their apparent divergence post-1920. Our hypothesis is that before 1920, American literature was more similar to European literature than it was after, due to the fact that the American literary community began to branch off style and tone-wise from their European counterparts.\n",
    "\n",
    "Was there a shift in literature post-1920 towards creating a unique American identity? After speaking to TAs and other English students, we’ve discovered that the difference between pre-1920 literature and post-1920 literature was a distinct American style. Before this time period, American authors wrote in a manner that resembled their European counterparts, and there was no effort to do otherwise. In the 1920s, the modernist movement began, which shuffled the literary order enough to allow Americans to find their own new voice; this persists today. Relatedly, America had also just emerged from World War I as its own world power, distinct from European powers, leaving them room to find a separate identity. \n",
    "\n",
    "## Hypothesis Rationale\n",
    "\n",
    "Thus, we want to see if this hypothesis is true: was there a significant difference in writing style in pre versus post-1920 works, enough to let us identify works based on their country? Believe there that there is. We want to look at the difference in F1 score from classifying against year labels for the pre and post 1920 works.\n",
    "\n",
    "If our hypothesis is found to be true, and that the difference was especially stark (large positive difference in F1 value), allowing us to look deeper into this result and the possible causes (due to the events going on during that time). A second answer could be yes, but that difference was not especially large. We’d probably not expect to see any sort of large disparity in F1 value if this were the case, though it may be positive. Two other results could be the same in the opposite direction - a stark, negative change, or a mild negative change. \n",
    "\n",
    "If our hypothesis was found to be unsupported by data, there is still quite a bit of analysis to be done, and multiple possible explanations. For one, the corpus may not be representative. Around the 1920s, there was still a lot of exchange between the literary societies, which could lead to the works seeming similar (especially if the post-1920 corpus is concentrated mainly in the recent years following 1920). The year 1920 is also not a linear cut off, and may affect the analysis we do. We’ll be able to analyze our results in the later sections after doing our experiment.\n"
   ]
  },
  {
   "cell_type": "markdown",
   "metadata": {},
   "source": [
    "# 2. Methods (10 points)"
   ]
  },
  {
   "cell_type": "markdown",
   "metadata": {
    "jp-MarkdownHeadingCollapsed": true,
    "tags": []
   },
   "source": [
    "## General Methodology and Using Word Tokens as Predictors\n",
    "First, we will be splitting up our data into two different data frames (using Pandas), one with works before 1920, and one with works from after. We’ve eliminated any non-European novels, and our dataset total comes out to be 155 rows, 109 of which are from before 1920, and 46 from after 1920. Our gold labels will come from the class corpus metadata, and contain information on whether or not the item is from America. There will also be two gold label sets, one for before and one for after 1920.\n",
    "\n",
    "We are then vectorizing each of the before/after 1920 sets using the TF-IDF vectorizer. The decision to use this vectorizer came mainly from our experiences in class/homeworks - it proved to be especially effective in automatically upweighting and downweighting words, so much so that we don’t really need to use stopwords. We are using a min_df of 0.05, so that any words that show up in less than 5% of the documents should not be counted. The max_df of 0.8 also ignores any words that show up in more than 80% of the documents. The TF-IDF vectorizer also seems to perform well with corpora made up of works of different sizes, which our original dataset contains.\n",
    "\n",
    "### Classification: 3 Different Methodologies\n",
    "For our classification, we’ll be initially using the **Logistic Regression, Random Forest, and Decision Tree** classifiers to see which performs the best in terms of overall F1 score. Using the compare_scores function (as provided in the code for the Mini Project 2 problem set) to cross validate these scores. By cross validating, we avoid training and testing on the same data, giving us more accurate results. We will be cross validating and using our resulting dataframe output to compare the performances of each classifier to then determine how to proceed.\n",
    "\n",
    "#### Decision Tree\n",
    "Decision Tree works by organizing the data in a sort of tree, moving from top to bottom. At every data point, it decides where to classify it, and by the time it reaches the last node, everything should be predicted. Decision Tree, however, is quite prone to overfitting, as we learned in class. This could prove to be a limitation to the way we measure our results, as overfitting the data could lead to a superficially high recall/F1 score. It's quite a simple algorithm which is nice, but it proved to be especially good at predicting in our MP 2 homework.\n",
    "\n",
    "#### Random Forest Classifier\n",
    "Random Forest is quite similar to the Decision Tree classifier, except instead of operating 1 tree at a time, it creates a forest! It moves down multiple trees at once, and though this could be computationally expensive, it may be more accurate than the single Decision Tree. After running through multiple trees, whichever classification has won the most 'votes' out of all the tree predictions is the final result. Random Forest tends to do well simply because it takes in the 'opinions' of multiple trees, and is able to do so all at once to spit out a great result.\n",
    "\n",
    "#### Logistic Regression Classifier\n",
    "Logistic Regression, quite intuitively, creates a regression model that it uses to predict whether or not a piece of data belongs to a class. We fit the training data to a linear model, transform it into a value ranging from 0 to 1, and then predict the class association based on the value it is most closely associated with (in that range). We've used Logistic Regression as it's quite efficient, and responsive to parameter changes. We also discovered a parameter (discussed in results) that allows us to better use the classifier on a smaller dataset, making Logistic Regression an ideal choice for analysis.\n",
    "\n",
    "### Using F1 Score as a Success Measurement\n",
    "\n",
    "The general premise of our research, as explained in the questions section, is to compare the before 1920 F1 score and the after 1920 F1 score to determine if our hypothesis was correct. If American writing style successfully distanced itself from European writing after 1920, we should see it reflected in our classification results. If the F1 score increases, it will show that the difference within the writing of the American novels is different enough (post-1920) that the classifier increased its success in classification.\n",
    "\n",
    "To measure classifier performance, we’ll be using F1 score. The F1 score is the harmonic mean between both the precision and recall scores. We can think of precision as answering the question: out of all books predicted as being from America, how many were actually from America? On the other hand, recall answers the question: out of all books actually from America, how many were correctly classified? F1 is able to take these and find a balance between them; because it is a harmonic mean, if either value is 0, the F1 score will also be 0, which eliminates any possible extreme cases.\n",
    "\n",
    "\n",
    "## Genre as a Predictor\n",
    "The second aspect of our classification will have to do with using genre as a predictor of author nationality for works before and after 1920. With this, we’ll be able to see how well each individual genre served as a predictor of author nationality. We would like to understand whether certain genres are more indicative of American authorship before 1920 vs. after 1920. The methodology is very similar to what we have described above for the word tokens. We would fit two Logistic Regression models to the data: one for the pre-1920 dataset and one ofr the post-1920 dataset and analyze the resulting classification matrices. \n",
    "Finally, we’ll do a breakdown of those individual statistics to see where our classifier’s results are coming from – F1, precision, recall, etc, as well as visualize the significance of individual genres. \n",
    "\n",
    "\n",
    "### KMeans Clustering for Genre\n",
    "\n",
    "As an aside, we also wanted to test out clustering by genre, using KMeans clustering. Because this is a much more exploratory process, we were curious to see what clustering on the genres would show us. However, given that KMeans is a form of unsupervised learning, we understand that it might not be significantly beneficial given we know the labels already. Still, we wanted to include this less structured form of analysis because we were curious about what features the KMeans algorithm would prioritize when clustering based on genre without knowing the true labels. We were also curious about whether the data after 1920 would be clustered differently due to the different number of novels in each genre.\n",
    "\n",
    "KMeans clustering works by defining a certain number of centers (the count of which is referred to as ‘k’). After defining the center points, data points are assigned to a cluster depending on whichever they are nearest to and in terms of whatever value you are clustering by. In the end, you end up with a certain amount of clusters signifying grouped data according to the k-value input. "
   ]
  },
  {
   "cell_type": "markdown",
   "metadata": {
    "tags": []
   },
   "source": [
    "# 3. Code (20 points)"
   ]
  },
  {
   "cell_type": "code",
   "execution_count": 42,
   "metadata": {},
   "outputs": [],
   "source": [
    "# all imports\n",
    "import csv\n",
    "import pandas as pd\n",
    "import os\n",
    "import numpy as np\n",
    "import matplotlib.pyplot as plt\n",
    "import warnings\n",
    "warnings.filterwarnings(\"ignore\") # silencing some future warnings\n",
    "\n",
    "from sklearn.tree import DecisionTreeClassifier\n",
    "from sklearn.ensemble import RandomForestClassifier\n",
    "from sklearn.naive_bayes import MultinomialNB\n",
    "from sklearn.neighbors import KNeighborsClassifier\n",
    "from sklearn.linear_model import LogisticRegression\n",
    "from sklearn.model_selection import cross_validate\n",
    "from sklearn.feature_extraction.text import CountVectorizer, TfidfVectorizer\n",
    "from sklearn.metrics.pairwise import euclidean_distances, cosine_distances\n",
    "from sklearn.metrics import confusion_matrix, classification_report\n",
    "from sklearn.naive_bayes import GaussianNB"
   ]
  },
  {
   "cell_type": "markdown",
   "metadata": {},
   "source": [
    "## Cleaning Code"
   ]
  },
  {
   "cell_type": "code",
   "execution_count": 43,
   "metadata": {},
   "outputs": [],
   "source": [
    "# dataframe with all data\n",
    "full_data = pd.read_csv('class_corpus_metadata.csv', usecols=['title', 'year', 'filename', 'country'])\n",
    "\n",
    "# Drop Australia, Canada, New Zealand books\n",
    "full_data.drop(full_data.loc[full_data['country']=='Australia'].index, inplace=True)\n",
    "full_data.drop(full_data.loc[full_data['country']=='New Zealand'].index, inplace=True)\n",
    "full_data.drop(full_data.loc[full_data['country']=='Canada'].index, inplace=True)"
   ]
  },
  {
   "cell_type": "code",
   "execution_count": 44,
   "metadata": {},
   "outputs": [],
   "source": [
    "# helper function\n",
    "# Source: https://stackoverflow.com/questions/61784255/split-a-pandas-dataframe-into-two-dataframes-efficiently-based-on-some-condition\n",
    "def split(row):\n",
    "    '''\n",
    "    split data based on whether text is from USA or Europe\n",
    "    '''\n",
    "    if row['country'] == 'United States':\n",
    "        val = 1\n",
    "    else:\n",
    "        val = 0\n",
    "    return val"
   ]
  },
  {
   "cell_type": "markdown",
   "metadata": {},
   "source": [
    "### Splitting Dataset into Texts Written before 1920 and after 1920"
   ]
  },
  {
   "cell_type": "code",
   "execution_count": 45,
   "metadata": {},
   "outputs": [
    {
     "name": "stdout",
     "output_type": "stream",
     "text": [
      "first 10 lines of our After 1920 Dataframe\n"
     ]
    },
    {
     "data": {
      "text/html": [
       "<div>\n",
       "<style scoped>\n",
       "    .dataframe tbody tr th:only-of-type {\n",
       "        vertical-align: middle;\n",
       "    }\n",
       "\n",
       "    .dataframe tbody tr th {\n",
       "        vertical-align: top;\n",
       "    }\n",
       "\n",
       "    .dataframe thead th {\n",
       "        text-align: right;\n",
       "    }\n",
       "</style>\n",
       "<table border=\"1\" class=\"dataframe\">\n",
       "  <thead>\n",
       "    <tr style=\"text-align: right;\">\n",
       "      <th></th>\n",
       "      <th>title</th>\n",
       "      <th>year</th>\n",
       "      <th>country</th>\n",
       "      <th>filename</th>\n",
       "      <th>inAmerica</th>\n",
       "    </tr>\n",
       "  </thead>\n",
       "  <tbody>\n",
       "    <tr>\n",
       "      <th>0</th>\n",
       "      <td>Writings in the United Amateur, 1915 - 1922</td>\n",
       "      <td>1922</td>\n",
       "      <td>United States</td>\n",
       "      <td>Lovecraft_WritingsintheUnitedAmateur1915-1922.txt</td>\n",
       "      <td>1</td>\n",
       "    </tr>\n",
       "    <tr>\n",
       "      <th>1</th>\n",
       "      <td>Whose Body?</td>\n",
       "      <td>1923</td>\n",
       "      <td>United Kingdom</td>\n",
       "      <td>Sayres_WhoseBody.txt</td>\n",
       "      <td>0</td>\n",
       "    </tr>\n",
       "    <tr>\n",
       "      <th>2</th>\n",
       "      <td>Voodoo Planet</td>\n",
       "      <td>1959</td>\n",
       "      <td>United States</td>\n",
       "      <td>Norton_VoodooPlanet.txt</td>\n",
       "      <td>1</td>\n",
       "    </tr>\n",
       "    <tr>\n",
       "      <th>6</th>\n",
       "      <td>To Kill A Mockingbird</td>\n",
       "      <td>1960</td>\n",
       "      <td>United States</td>\n",
       "      <td>Lee_ToKillAMockingbird.txt</td>\n",
       "      <td>1</td>\n",
       "    </tr>\n",
       "    <tr>\n",
       "      <th>15</th>\n",
       "      <td>The Trial</td>\n",
       "      <td>1925</td>\n",
       "      <td>Czech Republic</td>\n",
       "      <td>Kafka_The_Trial.txt</td>\n",
       "      <td>0</td>\n",
       "    </tr>\n",
       "    <tr>\n",
       "      <th>16</th>\n",
       "      <td>The Time Traders</td>\n",
       "      <td>1958</td>\n",
       "      <td>United States</td>\n",
       "      <td>The_Time_Traders_AN.txt</td>\n",
       "      <td>1</td>\n",
       "    </tr>\n",
       "    <tr>\n",
       "      <th>18</th>\n",
       "      <td>The Thing Beyond Reason</td>\n",
       "      <td>1926</td>\n",
       "      <td>United States</td>\n",
       "      <td>SanxayHolding_TheThingBeyondReason.txt</td>\n",
       "      <td>1</td>\n",
       "    </tr>\n",
       "    <tr>\n",
       "      <th>22</th>\n",
       "      <td>The Sign of Four</td>\n",
       "      <td>2000</td>\n",
       "      <td>United States</td>\n",
       "      <td>Doyle_TheSignoftheFour.txt</td>\n",
       "      <td>1</td>\n",
       "    </tr>\n",
       "    <tr>\n",
       "      <th>24</th>\n",
       "      <td>The Secret of the Old Clock</td>\n",
       "      <td>1930</td>\n",
       "      <td>United States</td>\n",
       "      <td>keene_secretoftheoldclock.txt</td>\n",
       "      <td>1</td>\n",
       "    </tr>\n",
       "    <tr>\n",
       "      <th>26</th>\n",
       "      <td>The Secret of Chimneys</td>\n",
       "      <td>1925</td>\n",
       "      <td>United Kingdom</td>\n",
       "      <td>Christie_TheSecretOfChimneys.txt</td>\n",
       "      <td>0</td>\n",
       "    </tr>\n",
       "  </tbody>\n",
       "</table>\n",
       "</div>"
      ],
      "text/plain": [
       "                                          title  year         country  \\\n",
       "0   Writings in the United Amateur, 1915 - 1922  1922   United States   \n",
       "1                                   Whose Body?  1923  United Kingdom   \n",
       "2                                 Voodoo Planet  1959   United States   \n",
       "6                         To Kill A Mockingbird  1960   United States   \n",
       "15                                    The Trial  1925  Czech Republic   \n",
       "16                             The Time Traders  1958   United States   \n",
       "18                      The Thing Beyond Reason  1926   United States   \n",
       "22                             The Sign of Four  2000   United States   \n",
       "24                  The Secret of the Old Clock  1930   United States   \n",
       "26                       The Secret of Chimneys  1925  United Kingdom   \n",
       "\n",
       "                                             filename  inAmerica  \n",
       "0   Lovecraft_WritingsintheUnitedAmateur1915-1922.txt          1  \n",
       "1                                Sayres_WhoseBody.txt          0  \n",
       "2                             Norton_VoodooPlanet.txt          1  \n",
       "6                          Lee_ToKillAMockingbird.txt          1  \n",
       "15                                Kafka_The_Trial.txt          0  \n",
       "16                            The_Time_Traders_AN.txt          1  \n",
       "18             SanxayHolding_TheThingBeyondReason.txt          1  \n",
       "22                         Doyle_TheSignoftheFour.txt          1  \n",
       "24                      keene_secretoftheoldclock.txt          1  \n",
       "26                   Christie_TheSecretOfChimneys.txt          0  "
      ]
     },
     "execution_count": 45,
     "metadata": {},
     "output_type": "execute_result"
    }
   ],
   "source": [
    "# Adding a column using the helper function\n",
    "# 1 if data is from North America\n",
    "# 0 if data is from Europe\n",
    "full_data['inAmerica'] = full_data.apply(split, axis=1)\n",
    "\n",
    "# Split into 2 dataframes based on before 1920 or after 1920\n",
    "splitting = full_data.year>1920\n",
    "after1920=full_data[splitting]\n",
    "before1920=full_data[~splitting]\n",
    "\n",
    "# Displaying first 10 rows of after1920\n",
    "print(\"first 10 lines of our After 1920 Dataframe\")\n",
    "after1920.head(10)"
   ]
  },
  {
   "cell_type": "code",
   "execution_count": 46,
   "metadata": {},
   "outputs": [
    {
     "name": "stdout",
     "output_type": "stream",
     "text": [
      "Count published before 1920: 109\n",
      "Count published after 1920: 46\n",
      "Count published for all data: 155\n"
     ]
    }
   ],
   "source": [
    "#creating a filepath for each of the files in order to access more easily later on\n",
    "novel_path = 'class_corpus'\n",
    "before1920.filepath = [os.path.join(novel_path, novel) for novel in before1920.filename]\n",
    "print('Count published before 1920:', len(before1920.filepath))\n",
    "\n",
    "after1920.filepath = [os.path.join(novel_path, novel) for novel in after1920.filename]\n",
    "print('Count published after 1920:', len(after1920.filepath))\n",
    "\n",
    "full_data.filepath = [os.path.join(novel_path, novel) for novel in full_data.filename]\n",
    "print('Count published for all data:', len(full_data.filepath))"
   ]
  },
  {
   "cell_type": "code",
   "execution_count": 47,
   "metadata": {},
   "outputs": [],
   "source": [
    "# Create list of .txt filenames\n",
    "novels = full_data['filename'].tolist()\n",
    "novel_path = 'class_corpus'\n",
    "# List of paths\n",
    "files = [os.path.join(novel_path, novel) for novel in novels]"
   ]
  },
  {
   "cell_type": "markdown",
   "metadata": {},
   "source": [
    "### Tokenizing"
   ]
  },
  {
   "cell_type": "code",
   "execution_count": 48,
   "metadata": {},
   "outputs": [
    {
     "name": "stdout",
     "output_type": "stream",
     "text": [
      "Matrix shape in Before1920: (109, 22054)\n",
      "Feature labels: ['000' '10' '100' ... 'zinc' 'zone' 'zoo']\n",
      "\n",
      "Matrix shape in After1920: (46, 18223)\n",
      "\n",
      "Matrix shape of All Books: (155, 21919)\n"
     ]
    }
   ],
   "source": [
    "# TF-IDF vectorizer\n",
    "full_vec = TfidfVectorizer(\n",
    "    input = 'filename',\n",
    "    encoding='utf-8',\n",
    "    strip_accents='unicode', # or 'ascii' (faster but less robust)\n",
    "    lowercase=True,\n",
    "    norm='l2',\n",
    "    use_idf = True,\n",
    "    min_df=0.05, \n",
    "    max_df=0.8, \n",
    "    binary=False\n",
    ")\n",
    "\n",
    "before1920vec = full_vec.fit_transform(before1920.filepath) # vector of pre-1920 works\n",
    "after1920vec = full_vec.fit_transform(after1920.filepath)# post-1920 works\n",
    "allvec = full_vec.fit_transform(full_data.filepath) #allworks\n",
    "print(\"Matrix shape in Before1920:\", before1920vec.shape)\n",
    "print(\"Feature labels:\", full_vec.get_feature_names_out())\n",
    "\n",
    "print(\"\\nMatrix shape in After1920:\", after1920vec.shape)\n",
    "\n",
    "\n",
    "print(\"\\nMatrix shape of All Books:\", allvec.shape)"
   ]
  },
  {
   "cell_type": "code",
   "execution_count": 49,
   "metadata": {},
   "outputs": [],
   "source": [
    "%matplotlib inline\n",
    "import numpy as np\n",
    "import os\n",
    "from   sklearn.cluster import KMeans, SpectralClustering, DBSCAN, OPTICS, AgglomerativeClustering\n",
    "from   sklearn.datasets import make_blobs\n",
    "from   sklearn.feature_extraction.text import TfidfVectorizer\n",
    "from   sklearn.metrics.pairwise import cosine_distances, cosine_similarity"
   ]
  },
  {
   "cell_type": "code",
   "execution_count": 50,
   "metadata": {},
   "outputs": [],
   "source": [
    "# Plotting function\n",
    "# Source: HW5 (Contributor: Matthew Wilkens)\n",
    "def plot_compare(X, labels, title, reduce=True, alpha=0.2):\n",
    "    '''\n",
    "    Takes an array of object data, a set of cluster labels, and a title string\n",
    "    Reduces dimensions to 2 and plots the clustering.\n",
    "    Returns nothing.\n",
    "    '''\n",
    "    import matplotlib.pyplot as plt\n",
    "    import seaborn as sns\n",
    "    from   sklearn.decomposition import TruncatedSVD\n",
    "\n",
    "    if reduce:\n",
    "        # TruncatedSVD is fast and can handle sparse inputs\n",
    "        # PCA requires dense inputs; MDS is slow\n",
    "        coordinates = TruncatedSVD(n_components=2).fit_transform(X)\n",
    "    else:\n",
    "        # Optionally handle 2-D inputs\n",
    "        coordinates = X\n",
    "    \n",
    "    # Set up figure\n",
    "    fig, ax = plt.subplots(figsize=(12,6))\n",
    "\n",
    "    # Labeled data\n",
    "    plt.subplot(122)\n",
    "    sns.scatterplot(\n",
    "        x=coordinates[:, 0], \n",
    "        y=coordinates[:, 1],\n",
    "        hue=labels,\n",
    "        alpha=0.8,\n",
    "        linewidth=0\n",
    "    )\n",
    "    plt.title(title)\n",
    "    plt.show()"
   ]
  },
  {
   "cell_type": "code",
   "execution_count": 51,
   "metadata": {},
   "outputs": [],
   "source": [
    "\n",
    "# Gold labels for before and after 1920\n",
    "y_gold_before1920 = before1920['inAmerica'].tolist()\n",
    "y_gold_after1920 = after1920['inAmerica'].tolist()\n",
    "y_gold_allworks = full_data['inAmerica'].tolist()\n"
   ]
  },
  {
   "cell_type": "markdown",
   "metadata": {},
   "source": [
    "### Classification using word tokens as predictors"
   ]
  },
  {
   "cell_type": "code",
   "execution_count": 52,
   "metadata": {},
   "outputs": [],
   "source": [
    "# Gold labels for before and after 1920\n",
    "y_gold_before1920 = before1920['inAmerica'].tolist()\n",
    "y_gold_after1920 = after1920['inAmerica'].tolist()\n",
    "y_gold_allworks = full_data['inAmerica'].tolist()"
   ]
  },
  {
   "cell_type": "code",
   "execution_count": 53,
   "metadata": {},
   "outputs": [],
   "source": [
    "classifiers = {\n",
    "    'DescisionTree': DecisionTreeClassifier(min_samples_split=4), #min_samples_split changed to increased the min # of samples to split a current node\n",
    "    'RandomForrest': RandomForestClassifier(), #kept split to 2 because performs better\n",
    "    'Logistic': LogisticRegression(class_weight=\"balanced\", solver = \"liblinear\", fit_intercept=True, intercept_scaling=.25 ) #liblinear is better for smaller datasets\n",
    "    \n",
    "}\n",
    "\n",
    "scoresbefore = {}\n",
    "# Source: HW MP2\n",
    "for classifier in classifiers: \n",
    "    scoresbefore[classifier] = cross_validate( # perform cross-validation\n",
    "        classifiers[classifier], # classifier object\n",
    "        before1920vec, # feature matrix\n",
    "        y_gold_before1920, # gold labels\n",
    "        cv=10, #number of folds\n",
    "        scoring=['precision', 'recall', 'f1']\n",
    "    )\n",
    "    \n",
    "scoresafter = {} \n",
    "# Source: HW MP2\n",
    "for classifier in classifiers: \n",
    "    scoresafter[classifier] = cross_validate( # perform cross-validation\n",
    "        classifiers[classifier], # classifier object\n",
    "        after1920vec, # feature matrix\n",
    "        y_gold_after1920, # gold labels\n",
    "        cv=10, #number of folds\n",
    "        scoring=['precision', 'recall', 'f1']\n",
    "    )\n",
    "  \n",
    "scoresall = {} \n",
    "# Source: Reference from Problem Set MP2, INFO 3350 2022\n",
    "# Contributors: Professor Matthew Wilkens\n",
    "for classifier in classifiers: \n",
    "    scoresall[classifier] = cross_validate( # perform cross-validation\n",
    "        classifiers[classifier], # classifier object\n",
    "        allvec, # feature matrix\n",
    "        y_gold_allworks, # gold labels\n",
    "        cv=10, #number of folds\n",
    "        scoring=['precision', 'recall', 'f1']\n",
    "    )"
   ]
  },
  {
   "cell_type": "code",
   "execution_count": 54,
   "metadata": {
    "tags": []
   },
   "outputs": [],
   "source": [
    "# Source: Referenced from Problem Set MP2, INFO 3350 2022\n",
    "# Contributors: Professor Matthew Wilkens\n",
    "def compare_scores(scores_dict):\n",
    "    '''\n",
    "    Takes a dictionary of cross_validate scores.\n",
    "    Returns a color-coded Pandas dataframe that summarizes those scores.\n",
    "    '''\n",
    "    df = pd.DataFrame(scores_dict).T.applymap(np.mean).style.background_gradient(cmap='RdYlGn')\n",
    "    return df"
   ]
  },
  {
   "cell_type": "code",
   "execution_count": 55,
   "metadata": {},
   "outputs": [
    {
     "name": "stdout",
     "output_type": "stream",
     "text": [
      "How well novels were predicted whether they were from America or Britain: Before 1920s\n"
     ]
    },
    {
     "data": {
      "text/html": [
       "<style type=\"text/css\">\n",
       "#T_9f7e8_row0_col0 {\n",
       "  background-color: #c9e881;\n",
       "  color: #000000;\n",
       "}\n",
       "#T_9f7e8_row0_col1 {\n",
       "  background-color: #ec5c3b;\n",
       "  color: #f1f1f1;\n",
       "}\n",
       "#T_9f7e8_row0_col2, #T_9f7e8_row0_col3, #T_9f7e8_row0_col4, #T_9f7e8_row1_col0, #T_9f7e8_row1_col1 {\n",
       "  background-color: #006837;\n",
       "  color: #f1f1f1;\n",
       "}\n",
       "#T_9f7e8_row1_col2, #T_9f7e8_row1_col3, #T_9f7e8_row1_col4, #T_9f7e8_row2_col0, #T_9f7e8_row2_col1 {\n",
       "  background-color: #a50026;\n",
       "  color: #f1f1f1;\n",
       "}\n",
       "#T_9f7e8_row2_col2 {\n",
       "  background-color: #b1de71;\n",
       "  color: #000000;\n",
       "}\n",
       "#T_9f7e8_row2_col3 {\n",
       "  background-color: #fee08b;\n",
       "  color: #000000;\n",
       "}\n",
       "#T_9f7e8_row2_col4 {\n",
       "  background-color: #fffebe;\n",
       "  color: #000000;\n",
       "}\n",
       "</style>\n",
       "<table id=\"T_9f7e8_\">\n",
       "  <thead>\n",
       "    <tr>\n",
       "      <th class=\"blank level0\" >&nbsp;</th>\n",
       "      <th class=\"col_heading level0 col0\" >fit_time</th>\n",
       "      <th class=\"col_heading level0 col1\" >score_time</th>\n",
       "      <th class=\"col_heading level0 col2\" >test_precision</th>\n",
       "      <th class=\"col_heading level0 col3\" >test_recall</th>\n",
       "      <th class=\"col_heading level0 col4\" >test_f1</th>\n",
       "    </tr>\n",
       "  </thead>\n",
       "  <tbody>\n",
       "    <tr>\n",
       "      <th id=\"T_9f7e8_level0_row0\" class=\"row_heading level0 row0\" >DescisionTree</th>\n",
       "      <td id=\"T_9f7e8_row0_col0\" class=\"data row0 col0\" >0.149786</td>\n",
       "      <td id=\"T_9f7e8_row0_col1\" class=\"data row0 col1\" >0.006492</td>\n",
       "      <td id=\"T_9f7e8_row0_col2\" class=\"data row0 col2\" >0.410000</td>\n",
       "      <td id=\"T_9f7e8_row0_col3\" class=\"data row0 col3\" >0.533333</td>\n",
       "      <td id=\"T_9f7e8_row0_col4\" class=\"data row0 col4\" >0.455952</td>\n",
       "    </tr>\n",
       "    <tr>\n",
       "      <th id=\"T_9f7e8_level0_row1\" class=\"row_heading level0 row1\" >RandomForrest</th>\n",
       "      <td id=\"T_9f7e8_row1_col0\" class=\"data row1 col0\" >0.219719</td>\n",
       "      <td id=\"T_9f7e8_row1_col1\" class=\"data row1 col1\" >0.026383</td>\n",
       "      <td id=\"T_9f7e8_row1_col2\" class=\"data row1 col2\" >0.250000</td>\n",
       "      <td id=\"T_9f7e8_row1_col3\" class=\"data row1 col3\" >0.116667</td>\n",
       "      <td id=\"T_9f7e8_row1_col4\" class=\"data row1 col4\" >0.156667</td>\n",
       "    </tr>\n",
       "    <tr>\n",
       "      <th id=\"T_9f7e8_level0_row2\" class=\"row_heading level0 row2\" >Logistic</th>\n",
       "      <td id=\"T_9f7e8_row2_col0\" class=\"data row2 col0\" >0.030144</td>\n",
       "      <td id=\"T_9f7e8_row2_col1\" class=\"data row2 col1\" >0.002329</td>\n",
       "      <td id=\"T_9f7e8_row2_col2\" class=\"data row2 col2\" >0.358333</td>\n",
       "      <td id=\"T_9f7e8_row2_col3\" class=\"data row2 col3\" >0.283333</td>\n",
       "      <td id=\"T_9f7e8_row2_col4\" class=\"data row2 col4\" >0.305714</td>\n",
       "    </tr>\n",
       "  </tbody>\n",
       "</table>\n"
      ],
      "text/plain": [
       "<pandas.io.formats.style.Styler at 0x12616c640>"
      ]
     },
     "execution_count": 55,
     "metadata": {},
     "output_type": "execute_result"
    }
   ],
   "source": [
    "print(\"How well novels were predicted whether they were from America or Britain: Before 1920s\")\n",
    "compare_scores(scoresbefore)"
   ]
  },
  {
   "cell_type": "code",
   "execution_count": 56,
   "metadata": {},
   "outputs": [
    {
     "name": "stdout",
     "output_type": "stream",
     "text": [
      "How well novels were predicted whether they were from America or Britain: After 1920s\n"
     ]
    },
    {
     "data": {
      "text/html": [
       "<style type=\"text/css\">\n",
       "#T_f79a4_row0_col0 {\n",
       "  background-color: #f8864f;\n",
       "  color: #f1f1f1;\n",
       "}\n",
       "#T_f79a4_row0_col1 {\n",
       "  background-color: #d83128;\n",
       "  color: #f1f1f1;\n",
       "}\n",
       "#T_f79a4_row0_col2, #T_f79a4_row0_col4, #T_f79a4_row2_col0, #T_f79a4_row2_col1, #T_f79a4_row2_col3 {\n",
       "  background-color: #a50026;\n",
       "  color: #f1f1f1;\n",
       "}\n",
       "#T_f79a4_row0_col3 {\n",
       "  background-color: #ea5739;\n",
       "  color: #f1f1f1;\n",
       "}\n",
       "#T_f79a4_row1_col0, #T_f79a4_row1_col1, #T_f79a4_row1_col3, #T_f79a4_row1_col4, #T_f79a4_row2_col2 {\n",
       "  background-color: #006837;\n",
       "  color: #f1f1f1;\n",
       "}\n",
       "#T_f79a4_row1_col2 {\n",
       "  background-color: #d1ec86;\n",
       "  color: #000000;\n",
       "}\n",
       "#T_f79a4_row2_col4 {\n",
       "  background-color: #fee18d;\n",
       "  color: #000000;\n",
       "}\n",
       "</style>\n",
       "<table id=\"T_f79a4_\">\n",
       "  <thead>\n",
       "    <tr>\n",
       "      <th class=\"blank level0\" >&nbsp;</th>\n",
       "      <th class=\"col_heading level0 col0\" >fit_time</th>\n",
       "      <th class=\"col_heading level0 col1\" >score_time</th>\n",
       "      <th class=\"col_heading level0 col2\" >test_precision</th>\n",
       "      <th class=\"col_heading level0 col3\" >test_recall</th>\n",
       "      <th class=\"col_heading level0 col4\" >test_f1</th>\n",
       "    </tr>\n",
       "  </thead>\n",
       "  <tbody>\n",
       "    <tr>\n",
       "      <th id=\"T_f79a4_level0_row0\" class=\"row_heading level0 row0\" >DescisionTree</th>\n",
       "      <td id=\"T_f79a4_row0_col0\" class=\"data row0 col0\" >0.038869</td>\n",
       "      <td id=\"T_f79a4_row0_col1\" class=\"data row0 col1\" >0.003777</td>\n",
       "      <td id=\"T_f79a4_row0_col2\" class=\"data row0 col2\" >0.553333</td>\n",
       "      <td id=\"T_f79a4_row0_col3\" class=\"data row0 col3\" >0.650000</td>\n",
       "      <td id=\"T_f79a4_row0_col4\" class=\"data row0 col4\" >0.568571</td>\n",
       "    </tr>\n",
       "    <tr>\n",
       "      <th id=\"T_f79a4_level0_row1\" class=\"row_heading level0 row1\" >RandomForrest</th>\n",
       "      <td id=\"T_f79a4_row1_col0\" class=\"data row1 col0\" >0.133194</td>\n",
       "      <td id=\"T_f79a4_row1_col1\" class=\"data row1 col1\" >0.016654</td>\n",
       "      <td id=\"T_f79a4_row1_col2\" class=\"data row1 col2\" >0.643333</td>\n",
       "      <td id=\"T_f79a4_row1_col3\" class=\"data row1 col3\" >0.816667</td>\n",
       "      <td id=\"T_f79a4_row1_col4\" class=\"data row1 col4\" >0.703571</td>\n",
       "    </tr>\n",
       "    <tr>\n",
       "      <th id=\"T_f79a4_level0_row2\" class=\"row_heading level0 row2\" >Logistic</th>\n",
       "      <td id=\"T_f79a4_row2_col0\" class=\"data row2 col0\" >0.009099</td>\n",
       "      <td id=\"T_f79a4_row2_col1\" class=\"data row2 col1\" >0.002295</td>\n",
       "      <td id=\"T_f79a4_row2_col2\" class=\"data row2 col2\" >0.700000</td>\n",
       "      <td id=\"T_f79a4_row2_col3\" class=\"data row2 col3\" >0.616667</td>\n",
       "      <td id=\"T_f79a4_row2_col4\" class=\"data row2 col4\" >0.623333</td>\n",
       "    </tr>\n",
       "  </tbody>\n",
       "</table>\n"
      ],
      "text/plain": [
       "<pandas.io.formats.style.Styler at 0x10f255820>"
      ]
     },
     "execution_count": 56,
     "metadata": {},
     "output_type": "execute_result"
    }
   ],
   "source": [
    "print(\"How well novels were predicted whether they were from America or Britain: After 1920s\")\n",
    "compare_scores(scoresafter)"
   ]
  },
  {
   "cell_type": "code",
   "execution_count": 57,
   "metadata": {},
   "outputs": [
    {
     "name": "stdout",
     "output_type": "stream",
     "text": [
      "How well novels were predicted whether they were from America or Britain: All Corpus\n"
     ]
    },
    {
     "data": {
      "text/html": [
       "<style type=\"text/css\">\n",
       "#T_7aab5_row0_col0 {\n",
       "  background-color: #36a657;\n",
       "  color: #f1f1f1;\n",
       "}\n",
       "#T_7aab5_row0_col1 {\n",
       "  background-color: #f16640;\n",
       "  color: #f1f1f1;\n",
       "}\n",
       "#T_7aab5_row0_col2, #T_7aab5_row1_col3, #T_7aab5_row1_col4, #T_7aab5_row2_col0, #T_7aab5_row2_col1 {\n",
       "  background-color: #a50026;\n",
       "  color: #f1f1f1;\n",
       "}\n",
       "#T_7aab5_row0_col3, #T_7aab5_row0_col4, #T_7aab5_row1_col0, #T_7aab5_row1_col1, #T_7aab5_row1_col2 {\n",
       "  background-color: #006837;\n",
       "  color: #f1f1f1;\n",
       "}\n",
       "#T_7aab5_row2_col2 {\n",
       "  background-color: #c41e27;\n",
       "  color: #f1f1f1;\n",
       "}\n",
       "#T_7aab5_row2_col3 {\n",
       "  background-color: #e9f6a1;\n",
       "  color: #000000;\n",
       "}\n",
       "#T_7aab5_row2_col4 {\n",
       "  background-color: #c82227;\n",
       "  color: #f1f1f1;\n",
       "}\n",
       "</style>\n",
       "<table id=\"T_7aab5_\">\n",
       "  <thead>\n",
       "    <tr>\n",
       "      <th class=\"blank level0\" >&nbsp;</th>\n",
       "      <th class=\"col_heading level0 col0\" >fit_time</th>\n",
       "      <th class=\"col_heading level0 col1\" >score_time</th>\n",
       "      <th class=\"col_heading level0 col2\" >test_precision</th>\n",
       "      <th class=\"col_heading level0 col3\" >test_recall</th>\n",
       "      <th class=\"col_heading level0 col4\" >test_f1</th>\n",
       "    </tr>\n",
       "  </thead>\n",
       "  <tbody>\n",
       "    <tr>\n",
       "      <th id=\"T_7aab5_level0_row0\" class=\"row_heading level0 row0\" >DescisionTree</th>\n",
       "      <td id=\"T_7aab5_row0_col0\" class=\"data row0 col0\" >0.255316</td>\n",
       "      <td id=\"T_7aab5_row0_col1\" class=\"data row0 col1\" >0.008158</td>\n",
       "      <td id=\"T_7aab5_row0_col2\" class=\"data row0 col2\" >0.592262</td>\n",
       "      <td id=\"T_7aab5_row0_col3\" class=\"data row0 col3\" >0.576667</td>\n",
       "      <td id=\"T_7aab5_row0_col4\" class=\"data row0 col4\" >0.565495</td>\n",
       "    </tr>\n",
       "    <tr>\n",
       "      <th id=\"T_7aab5_level0_row1\" class=\"row_heading level0 row1\" >RandomForrest</th>\n",
       "      <td id=\"T_7aab5_row1_col0\" class=\"data row1 col0\" >0.289841</td>\n",
       "      <td id=\"T_7aab5_row1_col1\" class=\"data row1 col1\" >0.033467</td>\n",
       "      <td id=\"T_7aab5_row1_col2\" class=\"data row1 col2\" >0.830000</td>\n",
       "      <td id=\"T_7aab5_row1_col3\" class=\"data row1 col3\" >0.403333</td>\n",
       "      <td id=\"T_7aab5_row1_col4\" class=\"data row1 col4\" >0.520476</td>\n",
       "    </tr>\n",
       "    <tr>\n",
       "      <th id=\"T_7aab5_level0_row2\" class=\"row_heading level0 row2\" >Logistic</th>\n",
       "      <td id=\"T_7aab5_row2_col0\" class=\"data row2 col0\" >0.038495</td>\n",
       "      <td id=\"T_7aab5_row2_col1\" class=\"data row2 col1\" >0.002279</td>\n",
       "      <td id=\"T_7aab5_row2_col2\" class=\"data row2 col2\" >0.607976</td>\n",
       "      <td id=\"T_7aab5_row2_col3\" class=\"data row2 col3\" >0.500000</td>\n",
       "      <td id=\"T_7aab5_row2_col4\" class=\"data row2 col4\" >0.523752</td>\n",
       "    </tr>\n",
       "  </tbody>\n",
       "</table>\n"
      ],
      "text/plain": [
       "<pandas.io.formats.style.Styler at 0x125ec3bb0>"
      ]
     },
     "execution_count": 57,
     "metadata": {},
     "output_type": "execute_result"
    }
   ],
   "source": [
    "print(\"How well novels were predicted whether they were from America or Britain: All Corpus\")\n",
    "compare_scores(scoresall)"
   ]
  },
  {
   "cell_type": "markdown",
   "metadata": {},
   "source": [
    "### Understanding the Corpus using graphs and tables"
   ]
  },
  {
   "cell_type": "code",
   "execution_count": 58,
   "metadata": {},
   "outputs": [
    {
     "name": "stdout",
     "output_type": "stream",
     "text": [
      "\n",
      "Counts of works in  pre-1920 set:\n",
      "0 = not from America, 1 = from America\n",
      "0    81\n",
      "1    28\n",
      "Name: inAmerica, dtype: int64\n",
      "\n",
      "Counts of works in  post-1920 set:\n",
      "0 = not from America, 1 = from America\n",
      "1    27\n",
      "0    19\n",
      "Name: inAmerica, dtype: int64\n",
      "\n",
      "Counts of works in  total used corpus:\n",
      "0 = not from America, 1 = from America\n",
      "0    100\n",
      "1     55\n",
      "Name: inAmerica, dtype: int64\n"
     ]
    },
    {
     "data": {
      "image/png": "[encoded data removed]",
      "text/plain": [
       "<Figure size 432x288 with 1 Axes>"
      ]
     },
     "metadata": {
      "needs_background": "light"
     },
     "output_type": "display_data"
    }
   ],
   "source": [
    "def print_counts(dataframe, name):\n",
    "    print('\\nCounts of works in ', name + ':')\n",
    "    print('0 = not from America, 1 = from America')\n",
    "    print(dataframe['inAmerica'].value_counts())\n",
    "    return\n",
    "\n",
    "print_counts(before1920, 'pre-1920 set')\n",
    "print_counts(after1920, 'post-1920 set')\n",
    "print_counts(full_data, 'total used corpus')\n",
    "\n",
    "# Making graph for counts of corpus within function to be able to call more than once\n",
    "# Coded with help from https://www.geeksforgeeks.org/plotting-multiple-bar-charts-using-matplotlib-in-python/ !\n",
    "def create_corpusgraphs():\n",
    "    fig = plt.figure()\n",
    "    X_titles = ['Pre-1920', 'Post-1920', 'Total Corpus']\n",
    "    fromAmerica = [before1920['inAmerica'].value_counts()[0], after1920['inAmerica'].value_counts()[0], full_data['inAmerica'].value_counts()[0]]\n",
    "    notAmerica = [before1920['inAmerica'].value_counts()[1], after1920['inAmerica'].value_counts()[1], full_data['inAmerica'].value_counts()[1]]\n",
    "\n",
    "    X_axis = np.arange(len(X_titles))\n",
    "\n",
    "    plt.bar(X_axis - 0.2, fromAmerica, 0.4, label='American')\n",
    "    plt.bar(X_axis + 0.2, notAmerica, 0.4, label='European')\n",
    "    plt.title('Graph of the Dataset/Corpus Sizes for Each Breakdown')\n",
    "    plt.xlabel('Dataset')\n",
    "    plt.ylabel('Size of Corpus') \n",
    "    plt.xticks(X_axis, X_titles)\n",
    "    plt.legend()\n",
    "    return fig\n",
    "\n",
    "graph = create_corpusgraphs()"
   ]
  },
  {
   "cell_type": "markdown",
   "metadata": {},
   "source": [
    "## Genre Analysis\n",
    "\n",
    "### Cleaning Dataset"
   ]
  },
  {
   "cell_type": "code",
   "execution_count": 59,
   "metadata": {},
   "outputs": [],
   "source": [
    "full_data1 = pd.read_csv('class_corpus_metadata.csv', usecols=['title', 'year', 'country', 'horror', 'detective', 'sci-fi', 'fantasy', 'romantic', 'gothic', 'historical', 'feminist fiction', 'mystery', 'adventure', 'tragedy', 'children', 'regency', 'manners', 'philosophical', 'coming-of-age'])\n",
    "\n",
    "# Drop Australia, Canada, and New Zealand rows\n",
    "full_data1.drop(full_data1.loc[full_data1['country']=='Australia'].index, inplace=True)\n",
    "full_data1.drop(full_data1.loc[full_data1['country']=='New Zealand'].index, inplace=True)\n",
    "full_data1.drop(full_data1.loc[full_data1['country']=='Canada'].index, inplace=True)\n",
    "full_data1['isAmerica'] = full_data1.apply(split, axis=1)\n",
    "\n",
    "# For one book, the horror and detective categories were left blank. We looked up the book and deduced that it is not horror or detective, so we put false for these blanks\n",
    "full_data1[\"horror\"].fillna(False,inplace=True)\n",
    "full_data1[\"detective\"].fillna(False,inplace=True)\n",
    "\n",
    "genre = ['horror', 'detective', 'sci-fi', 'fantasy', 'romantic', 'gothic', 'historical', 'feminist fiction', 'mystery', 'adventure', 'tragedy', 'children', 'regency', 'manners', 'philosophical', 'coming-of-age']\n",
    "\n",
    "for column in genre:\n",
    "    full_data1[column] = full_data1[column].astype(int)"
   ]
  },
  {
   "cell_type": "markdown",
   "metadata": {},
   "source": [
    "### Splitting dataset"
   ]
  },
  {
   "cell_type": "code",
   "execution_count": 60,
   "metadata": {},
   "outputs": [],
   "source": [
    "# Splitting SECOND dataset - including genres\n",
    "\n",
    "splitting1 = full_data1.year>1920\n",
    "after19201=full_data1[splitting1]\n",
    "before19201=full_data1[~splitting1]\n",
    "\n",
    "y_truebefore = before19201['isAmerica'].tolist()\n",
    "y_trueafter = after19201['isAmerica'].tolist()"
   ]
  },
  {
   "cell_type": "markdown",
   "metadata": {},
   "source": [
    "### Clustering on genre - Before 1920"
   ]
  },
  {
   "cell_type": "code",
   "execution_count": null,
   "metadata": {},
   "outputs": [],
   "source": []
  },
  {
   "cell_type": "code",
   "execution_count": 61,
   "metadata": {},
   "outputs": [
    {
     "name": "stdout",
     "output_type": "stream",
     "text": [
      "Label vector shape: (109, 16)\n"
     ]
    },
    {
     "data": {
      "image/png": "[encoded data removed]",
      "text/plain": [
       "<Figure size 864x432 with 1 Axes>"
      ]
     },
     "metadata": {
      "needs_background": "light"
     },
     "output_type": "display_data"
    }
   ],
   "source": [
    "#sourced from hw5 contributer Prof Wilkens\n",
    "#sourced from https://www.codegrepper.com/code-examples/python/How+to+get+values+in+each+cluster\n",
    "km_before = KMeans(n_clusters=5).fit(before19201[genre])\n",
    "y_kmeans_before = km_before.predict(before19201[genre])\n",
    "\n",
    "# Print label vector shape\n",
    "print('Label vector shape:', before19201[genre].shape)\n",
    "\n",
    "# Plot results\n",
    "plot_compare(before19201[genre], y_kmeans_before, 'k-Means (predicted) labels', reduce=True)\n",
    "\n",
    "before_copy = before19201.copy()\n",
    "before_copy['cluster'] = km_before.labels_"
   ]
  },
  {
   "cell_type": "code",
   "execution_count": 87,
   "metadata": {},
   "outputs": [
    {
     "name": "stdout",
     "output_type": "stream",
     "text": [
      "These are the first few values for Cluster 0, which end up being Horror:\n"
     ]
    },
    {
     "data": {
      "text/html": [
       "<div>\n",
       "<style scoped>\n",
       "    .dataframe tbody tr th:only-of-type {\n",
       "        vertical-align: middle;\n",
       "    }\n",
       "\n",
       "    .dataframe tbody tr th {\n",
       "        vertical-align: top;\n",
       "    }\n",
       "\n",
       "    .dataframe thead th {\n",
       "        text-align: right;\n",
       "    }\n",
       "</style>\n",
       "<table border=\"1\" class=\"dataframe\">\n",
       "  <thead>\n",
       "    <tr style=\"text-align: right;\">\n",
       "      <th></th>\n",
       "      <th>title</th>\n",
       "      <th>year</th>\n",
       "      <th>country</th>\n",
       "      <th>horror</th>\n",
       "      <th>detective</th>\n",
       "      <th>sci-fi</th>\n",
       "      <th>fantasy</th>\n",
       "      <th>romantic</th>\n",
       "      <th>gothic</th>\n",
       "      <th>historical</th>\n",
       "      <th>...</th>\n",
       "      <th>mystery</th>\n",
       "      <th>adventure</th>\n",
       "      <th>tragedy</th>\n",
       "      <th>children</th>\n",
       "      <th>regency</th>\n",
       "      <th>manners</th>\n",
       "      <th>philosophical</th>\n",
       "      <th>coming-of-age</th>\n",
       "      <th>isAmerica</th>\n",
       "      <th>cluster</th>\n",
       "    </tr>\n",
       "  </thead>\n",
       "  <tbody>\n",
       "    <tr>\n",
       "      <th>3</th>\n",
       "      <td>Varney the Vampire; Or, the Feast of Blood by ...</td>\n",
       "      <td>1845</td>\n",
       "      <td>United Kingdom</td>\n",
       "      <td>1</td>\n",
       "      <td>0</td>\n",
       "      <td>0</td>\n",
       "      <td>1</td>\n",
       "      <td>0</td>\n",
       "      <td>1</td>\n",
       "      <td>0</td>\n",
       "      <td>...</td>\n",
       "      <td>0</td>\n",
       "      <td>0</td>\n",
       "      <td>0</td>\n",
       "      <td>0</td>\n",
       "      <td>0</td>\n",
       "      <td>0</td>\n",
       "      <td>0</td>\n",
       "      <td>0</td>\n",
       "      <td>0</td>\n",
       "      <td>0</td>\n",
       "    </tr>\n",
       "    <tr>\n",
       "      <th>13</th>\n",
       "      <td>The Uninhabited House</td>\n",
       "      <td>1883</td>\n",
       "      <td>United Kingdom</td>\n",
       "      <td>1</td>\n",
       "      <td>0</td>\n",
       "      <td>0</td>\n",
       "      <td>0</td>\n",
       "      <td>0</td>\n",
       "      <td>0</td>\n",
       "      <td>0</td>\n",
       "      <td>...</td>\n",
       "      <td>0</td>\n",
       "      <td>0</td>\n",
       "      <td>0</td>\n",
       "      <td>0</td>\n",
       "      <td>0</td>\n",
       "      <td>0</td>\n",
       "      <td>0</td>\n",
       "      <td>0</td>\n",
       "      <td>0</td>\n",
       "      <td>0</td>\n",
       "    </tr>\n",
       "    <tr>\n",
       "      <th>14</th>\n",
       "      <td>The Turn of the Screw</td>\n",
       "      <td>1898</td>\n",
       "      <td>United States</td>\n",
       "      <td>1</td>\n",
       "      <td>0</td>\n",
       "      <td>0</td>\n",
       "      <td>0</td>\n",
       "      <td>0</td>\n",
       "      <td>1</td>\n",
       "      <td>0</td>\n",
       "      <td>...</td>\n",
       "      <td>0</td>\n",
       "      <td>0</td>\n",
       "      <td>0</td>\n",
       "      <td>0</td>\n",
       "      <td>0</td>\n",
       "      <td>0</td>\n",
       "      <td>0</td>\n",
       "      <td>0</td>\n",
       "      <td>1</td>\n",
       "      <td>0</td>\n",
       "    </tr>\n",
       "    <tr>\n",
       "      <th>17</th>\n",
       "      <td>The Three Imposters</td>\n",
       "      <td>1895</td>\n",
       "      <td>United Kingdom</td>\n",
       "      <td>1</td>\n",
       "      <td>0</td>\n",
       "      <td>0</td>\n",
       "      <td>0</td>\n",
       "      <td>0</td>\n",
       "      <td>0</td>\n",
       "      <td>0</td>\n",
       "      <td>...</td>\n",
       "      <td>0</td>\n",
       "      <td>0</td>\n",
       "      <td>0</td>\n",
       "      <td>0</td>\n",
       "      <td>0</td>\n",
       "      <td>0</td>\n",
       "      <td>0</td>\n",
       "      <td>0</td>\n",
       "      <td>0</td>\n",
       "      <td>0</td>\n",
       "    </tr>\n",
       "    <tr>\n",
       "      <th>19</th>\n",
       "      <td>The Strange Visitation</td>\n",
       "      <td>1904</td>\n",
       "      <td>United Kingdom</td>\n",
       "      <td>0</td>\n",
       "      <td>0</td>\n",
       "      <td>0</td>\n",
       "      <td>1</td>\n",
       "      <td>0</td>\n",
       "      <td>1</td>\n",
       "      <td>0</td>\n",
       "      <td>...</td>\n",
       "      <td>1</td>\n",
       "      <td>1</td>\n",
       "      <td>0</td>\n",
       "      <td>0</td>\n",
       "      <td>0</td>\n",
       "      <td>0</td>\n",
       "      <td>0</td>\n",
       "      <td>0</td>\n",
       "      <td>0</td>\n",
       "      <td>0</td>\n",
       "    </tr>\n",
       "  </tbody>\n",
       "</table>\n",
       "<p>5 rows × 21 columns</p>\n",
       "</div>"
      ],
      "text/plain": [
       "                                                title  year         country  \\\n",
       "3   Varney the Vampire; Or, the Feast of Blood by ...  1845  United Kingdom   \n",
       "13                              The Uninhabited House  1883  United Kingdom   \n",
       "14                              The Turn of the Screw  1898   United States   \n",
       "17                                The Three Imposters  1895  United Kingdom   \n",
       "19                             The Strange Visitation  1904  United Kingdom   \n",
       "\n",
       "    horror  detective  sci-fi  fantasy  romantic  gothic  historical  ...  \\\n",
       "3        1          0       0        1         0       1           0  ...   \n",
       "13       1          0       0        0         0       0           0  ...   \n",
       "14       1          0       0        0         0       1           0  ...   \n",
       "17       1          0       0        0         0       0           0  ...   \n",
       "19       0          0       0        1         0       1           0  ...   \n",
       "\n",
       "    mystery  adventure  tragedy  children  regency  manners  philosophical  \\\n",
       "3         0          0        0         0        0        0              0   \n",
       "13        0          0        0         0        0        0              0   \n",
       "14        0          0        0         0        0        0              0   \n",
       "17        0          0        0         0        0        0              0   \n",
       "19        1          1        0         0        0        0              0   \n",
       "\n",
       "    coming-of-age  isAmerica  cluster  \n",
       "3               0          0        0  \n",
       "13              0          0        0  \n",
       "14              0          1        0  \n",
       "17              0          0        0  \n",
       "19              0          0        0  \n",
       "\n",
       "[5 rows x 21 columns]"
      ]
     },
     "execution_count": 87,
     "metadata": {},
     "output_type": "execute_result"
    }
   ],
   "source": [
    "print('These are the first few values for Cluster 0, which end up being Horror:')\n",
    "before_copy[before_copy.cluster == 0].head()"
   ]
  },
  {
   "cell_type": "markdown",
   "metadata": {},
   "source": [
    "### Clustering - After 1920"
   ]
  },
  {
   "cell_type": "code",
   "execution_count": 63,
   "metadata": {},
   "outputs": [
    {
     "name": "stdout",
     "output_type": "stream",
     "text": [
      "Label vector shape: (46, 16)\n"
     ]
    },
    {
     "data": {
      "image/png": "[encoded data removed]",
      "text/plain": [
       "<Figure size 864x432 with 1 Axes>"
      ]
     },
     "metadata": {
      "needs_background": "light"
     },
     "output_type": "display_data"
    }
   ],
   "source": [
    "#sourced from hw5 contributer Prof Wilkens\n",
    "km_after = KMeans(n_clusters=5).fit(after19201[genre])\n",
    "y_kmeans_after = km_after.predict(after19201[genre])\n",
    "\n",
    "# Print label vector shape\n",
    "print('Label vector shape:', after19201[genre].shape)\n",
    "\n",
    "# Plot results\n",
    "plot_compare(after19201[genre], y_kmeans_after, 'k-Means (predicted) labels', reduce=True)\n",
    "\n",
    "after_copy = after19201.copy()\n",
    "after_copy['cluster'] = km_after.labels_"
   ]
  },
  {
   "cell_type": "code",
   "execution_count": 82,
   "metadata": {},
   "outputs": [
    {
     "name": "stdout",
     "output_type": "stream",
     "text": [
      "These are the first few values for Cluster 1, which end up being Detective:\n"
     ]
    },
    {
     "data": {
      "text/html": [
       "<div>\n",
       "<style scoped>\n",
       "    .dataframe tbody tr th:only-of-type {\n",
       "        vertical-align: middle;\n",
       "    }\n",
       "\n",
       "    .dataframe tbody tr th {\n",
       "        vertical-align: top;\n",
       "    }\n",
       "\n",
       "    .dataframe thead th {\n",
       "        text-align: right;\n",
       "    }\n",
       "</style>\n",
       "<table border=\"1\" class=\"dataframe\">\n",
       "  <thead>\n",
       "    <tr style=\"text-align: right;\">\n",
       "      <th></th>\n",
       "      <th>title</th>\n",
       "      <th>year</th>\n",
       "      <th>country</th>\n",
       "      <th>horror</th>\n",
       "      <th>detective</th>\n",
       "      <th>sci-fi</th>\n",
       "      <th>fantasy</th>\n",
       "      <th>romantic</th>\n",
       "      <th>gothic</th>\n",
       "      <th>historical</th>\n",
       "      <th>...</th>\n",
       "      <th>mystery</th>\n",
       "      <th>adventure</th>\n",
       "      <th>tragedy</th>\n",
       "      <th>children</th>\n",
       "      <th>regency</th>\n",
       "      <th>manners</th>\n",
       "      <th>philosophical</th>\n",
       "      <th>coming-of-age</th>\n",
       "      <th>isAmerica</th>\n",
       "      <th>cluster</th>\n",
       "    </tr>\n",
       "  </thead>\n",
       "  <tbody>\n",
       "    <tr>\n",
       "      <th>1</th>\n",
       "      <td>Whose Body?</td>\n",
       "      <td>1923</td>\n",
       "      <td>United Kingdom</td>\n",
       "      <td>0</td>\n",
       "      <td>1</td>\n",
       "      <td>0</td>\n",
       "      <td>0</td>\n",
       "      <td>0</td>\n",
       "      <td>0</td>\n",
       "      <td>0</td>\n",
       "      <td>...</td>\n",
       "      <td>1</td>\n",
       "      <td>0</td>\n",
       "      <td>0</td>\n",
       "      <td>0</td>\n",
       "      <td>0</td>\n",
       "      <td>0</td>\n",
       "      <td>0</td>\n",
       "      <td>0</td>\n",
       "      <td>0</td>\n",
       "      <td>1</td>\n",
       "    </tr>\n",
       "    <tr>\n",
       "      <th>18</th>\n",
       "      <td>The Thing Beyond Reason</td>\n",
       "      <td>1926</td>\n",
       "      <td>United States</td>\n",
       "      <td>0</td>\n",
       "      <td>1</td>\n",
       "      <td>0</td>\n",
       "      <td>0</td>\n",
       "      <td>0</td>\n",
       "      <td>0</td>\n",
       "      <td>0</td>\n",
       "      <td>...</td>\n",
       "      <td>1</td>\n",
       "      <td>0</td>\n",
       "      <td>1</td>\n",
       "      <td>0</td>\n",
       "      <td>0</td>\n",
       "      <td>0</td>\n",
       "      <td>0</td>\n",
       "      <td>0</td>\n",
       "      <td>1</td>\n",
       "      <td>1</td>\n",
       "    </tr>\n",
       "    <tr>\n",
       "      <th>22</th>\n",
       "      <td>The Sign of Four</td>\n",
       "      <td>2000</td>\n",
       "      <td>United States</td>\n",
       "      <td>0</td>\n",
       "      <td>1</td>\n",
       "      <td>0</td>\n",
       "      <td>0</td>\n",
       "      <td>0</td>\n",
       "      <td>0</td>\n",
       "      <td>0</td>\n",
       "      <td>...</td>\n",
       "      <td>0</td>\n",
       "      <td>0</td>\n",
       "      <td>0</td>\n",
       "      <td>0</td>\n",
       "      <td>0</td>\n",
       "      <td>0</td>\n",
       "      <td>0</td>\n",
       "      <td>0</td>\n",
       "      <td>1</td>\n",
       "      <td>1</td>\n",
       "    </tr>\n",
       "    <tr>\n",
       "      <th>24</th>\n",
       "      <td>The Secret of the Old Clock</td>\n",
       "      <td>1930</td>\n",
       "      <td>United States</td>\n",
       "      <td>0</td>\n",
       "      <td>1</td>\n",
       "      <td>0</td>\n",
       "      <td>0</td>\n",
       "      <td>0</td>\n",
       "      <td>0</td>\n",
       "      <td>0</td>\n",
       "      <td>...</td>\n",
       "      <td>0</td>\n",
       "      <td>1</td>\n",
       "      <td>0</td>\n",
       "      <td>0</td>\n",
       "      <td>0</td>\n",
       "      <td>0</td>\n",
       "      <td>0</td>\n",
       "      <td>0</td>\n",
       "      <td>1</td>\n",
       "      <td>1</td>\n",
       "    </tr>\n",
       "    <tr>\n",
       "      <th>26</th>\n",
       "      <td>The Secret of Chimneys</td>\n",
       "      <td>1925</td>\n",
       "      <td>United Kingdom</td>\n",
       "      <td>0</td>\n",
       "      <td>1</td>\n",
       "      <td>0</td>\n",
       "      <td>0</td>\n",
       "      <td>0</td>\n",
       "      <td>0</td>\n",
       "      <td>0</td>\n",
       "      <td>...</td>\n",
       "      <td>1</td>\n",
       "      <td>0</td>\n",
       "      <td>0</td>\n",
       "      <td>0</td>\n",
       "      <td>0</td>\n",
       "      <td>0</td>\n",
       "      <td>0</td>\n",
       "      <td>0</td>\n",
       "      <td>0</td>\n",
       "      <td>1</td>\n",
       "    </tr>\n",
       "  </tbody>\n",
       "</table>\n",
       "<p>5 rows × 21 columns</p>\n",
       "</div>"
      ],
      "text/plain": [
       "                          title  year         country  horror  detective  \\\n",
       "1                   Whose Body?  1923  United Kingdom       0          1   \n",
       "18      The Thing Beyond Reason  1926   United States       0          1   \n",
       "22             The Sign of Four  2000   United States       0          1   \n",
       "24  The Secret of the Old Clock  1930   United States       0          1   \n",
       "26       The Secret of Chimneys  1925  United Kingdom       0          1   \n",
       "\n",
       "    sci-fi  fantasy  romantic  gothic  historical  ...  mystery  adventure  \\\n",
       "1        0        0         0       0           0  ...        1          0   \n",
       "18       0        0         0       0           0  ...        1          0   \n",
       "22       0        0         0       0           0  ...        0          0   \n",
       "24       0        0         0       0           0  ...        0          1   \n",
       "26       0        0         0       0           0  ...        1          0   \n",
       "\n",
       "    tragedy  children  regency  manners  philosophical  coming-of-age  \\\n",
       "1         0         0        0        0              0              0   \n",
       "18        1         0        0        0              0              0   \n",
       "22        0         0        0        0              0              0   \n",
       "24        0         0        0        0              0              0   \n",
       "26        0         0        0        0              0              0   \n",
       "\n",
       "    isAmerica  cluster  \n",
       "1           0        1  \n",
       "18          1        1  \n",
       "22          1        1  \n",
       "24          1        1  \n",
       "26          0        1  \n",
       "\n",
       "[5 rows x 21 columns]"
      ]
     },
     "execution_count": 82,
     "metadata": {},
     "output_type": "execute_result"
    }
   ],
   "source": [
    "print('These are the first few values for Cluster 1, which end up being Detective:')\n",
    "after_copy[after_copy.cluster == 1].head()"
   ]
  },
  {
   "cell_type": "markdown",
   "metadata": {},
   "source": [
    "### Genre: Logistic Regression Classification - before 1920"
   ]
  },
  {
   "cell_type": "code",
   "execution_count": 65,
   "metadata": {},
   "outputs": [
    {
     "name": "stdout",
     "output_type": "stream",
     "text": [
      "Fitting model to see how well individual genres predict nationality for the pre-1920 works:\n",
      "\n",
      "[[-0.85638885 -0.29346754  0.3978659  -0.08556373 -0.47973917 -0.20930973\n",
      "  -0.25197921  0.44582729  0.95200992 -1.08530522 -0.06983695  0.92651077\n",
      "  -0.42684513 -0.17823258 -0.46030093  1.48472523]]\n",
      "[-0.09104703]\n",
      "Confusion matrix:\n",
      "[[64 17]\n",
      " [ 9 19]]\n",
      "\n",
      "\n",
      "Before 1920s: How well Individual Genres predict nationality\n"
     ]
    },
    {
     "data": {
      "text/plain": [
       "<AxesSubplot:>"
      ]
     },
     "execution_count": 65,
     "metadata": {},
     "output_type": "execute_result"
    },
    {
     "data": {
      "image/png": "[encoded data removed]",
      "text/plain": [
       "<Figure size 432x288 with 1 Axes>"
      ]
     },
     "metadata": {
      "needs_background": "light"
     },
     "output_type": "display_data"
    }
   ],
   "source": [
    "# This entire chunk of code:\n",
    "# Source: Refrenced from INFO 2950 final project (SP 21)\n",
    "# Contributors: Katherine Yao, Jiali Chen, Larina Fu, Chenchen Lu (with permission)\n",
    "\n",
    "modeltestbefore = LogisticRegression(class_weight='balanced').fit(\n",
    "    before19201[genre],\n",
    "    before19201['isAmerica']\n",
    ")\n",
    "\n",
    "print('Fitting model to see how well individual genres predict nationality for the pre-1920 works:\\n')\n",
    "print(modeltestbefore.coef_)\n",
    "print(modeltestbefore.intercept_)\n",
    "\n",
    "y_truebefore = before19201['isAmerica'].tolist()\n",
    "y_predbefore = modeltestbefore.predict(before19201[genre])\n",
    "\n",
    "# Confusion matrix\n",
    "print(\"Confusion matrix:\")\n",
    "print(confusion_matrix(y_truebefore, y_predbefore))\n",
    "\n",
    "print(\"\\n\\nBefore 1920s: How well Individual Genres predict nationality\")\n",
    "dfbefore1920 = pd.DataFrame({'coef':modeltestbefore.coef_[0]}, index=genre)\n",
    "dfbefore1920.sort_values(by='coef').plot.barh(legend=False)"
   ]
  },
  {
   "cell_type": "markdown",
   "metadata": {},
   "source": [
    "### Genre: Logistic Regression Classification - after 1920"
   ]
  },
  {
   "cell_type": "code",
   "execution_count": 66,
   "metadata": {},
   "outputs": [
    {
     "name": "stdout",
     "output_type": "stream",
     "text": [
      "Fitting model to see how well individual genres predict author nationality for the post-1920 works:\n",
      "\n",
      "[[ 0.04275066 -0.28997084  0.44046406 -0.14879995 -0.12866867  0.08822096\n",
      "   0.83062767 -0.42577271 -0.91520511  0.88489671  0.93997015  0.62684622\n",
      "   0.          0.         -0.04670614  0.41229412]]\n",
      "[0.07774833]\n",
      "Confusion matrix:\n",
      "[[14  5]\n",
      " [ 4 23]]\n",
      "After 1920s: How well Individual Genres predict whether a book is from america\n"
     ]
    },
    {
     "data": {
      "text/plain": [
       "<AxesSubplot:>"
      ]
     },
     "execution_count": 66,
     "metadata": {},
     "output_type": "execute_result"
    },
    {
     "data": {
      "image/png": "[encoded data removed]",
      "text/plain": [
       "<Figure size 432x288 with 1 Axes>"
      ]
     },
     "metadata": {
      "needs_background": "light"
     },
     "output_type": "display_data"
    }
   ],
   "source": [
    "# Fitting model for After 1920 works\n",
    "# This entire chunk of code\n",
    "# Source: Referenced from INFO 2950 final project (SP 21)\n",
    "# Contributors: Katherine Yao, Jiali Chen, Larina Fu, Chenchen Lu (with permission)\n",
    "\n",
    "modeltestafter = LogisticRegression(class_weight=\"balanced\").fit(\n",
    "    after19201[genre],\n",
    "    after19201['isAmerica']\n",
    ")\n",
    "\n",
    "\n",
    "y_predafter = modeltestafter.predict(after19201[genre])\n",
    "# print('Fitting model to see how well individual genres were predicted for the post-1920 works:\\n')\n",
    "\n",
    "print('Fitting model to see how well individual genres predict author nationality for the post-1920 works:\\n')\n",
    "print(modeltestafter.coef_)\n",
    "print(modeltestafter.intercept_)\n",
    "\n",
    "# Confusion matrix\n",
    "print(\"Confusion matrix:\")\n",
    "print(confusion_matrix(y_trueafter, y_predafter))\n",
    "\n",
    "print(\"After 1920s: How well Individual Genres predict whether a book is from america\")\n",
    "dfafter1920 = pd.DataFrame({'coef':modeltestafter.coef_[0]}, index=genre)\n",
    "dfafter1920.sort_values(by='coef').plot.barh(legend=False)\n",
    "\n",
    "#  TP FP\n",
    "#  FN TN\n",
    "\n",
    "# Precision: TP/(TP + FP)\n",
    "# precision: Out of everything that is predicted as from america, what percentage was actually from america\n",
    "# Recall: TP/(TP + FN)\n",
    "# Recall: Out of everything actually from America, what percentage was predicted correctly?"
   ]
  },
  {
   "cell_type": "code",
   "execution_count": 67,
   "metadata": {},
   "outputs": [
    {
     "name": "stdout",
     "output_type": "stream",
     "text": [
      "How well novels were predicted whether they were from America or Europe: After 1920s\n",
      "0 = not from America, 1 = from America\n",
      "              precision    recall  f1-score   support\n",
      "\n",
      "           0       0.78      0.74      0.76        19\n",
      "           1       0.82      0.85      0.84        27\n",
      "\n",
      "    accuracy                           0.80        46\n",
      "   macro avg       0.80      0.79      0.80        46\n",
      "weighted avg       0.80      0.80      0.80        46\n",
      "\n",
      "\n",
      "\n",
      "How well novels were predicted whether they were from America or Europe: Before 1920s\n",
      "0 = not from America, 1 = from America\n",
      "              precision    recall  f1-score   support\n",
      "\n",
      "           0       0.88      0.79      0.83        81\n",
      "           1       0.53      0.68      0.59        28\n",
      "\n",
      "    accuracy                           0.76       109\n",
      "   macro avg       0.70      0.73      0.71       109\n",
      "weighted avg       0.79      0.76      0.77       109\n",
      "\n"
     ]
    }
   ],
   "source": [
    "# Source: Refrenced from INFO 2950 final project (SP 21)\n",
    "# Contibutors: Katherine Yao, Jiali Chen, Larina Fu, Chenchen Lu (with permission)\n",
    "\n",
    "print(\"How well novels were predicted whether they were from America or Europe: After 1920s\")\n",
    "print('0 = not from America, 1 = from America')\n",
    "print(classification_report(y_trueafter, y_predafter))\n",
    "print(\"\\n\\nHow well novels were predicted whether they were from America or Europe: Before 1920s\")\n",
    "print('0 = not from America, 1 = from America')\n",
    "print(classification_report(y_truebefore, y_predbefore))"
   ]
  },
  {
   "cell_type": "markdown",
   "metadata": {},
   "source": [
    "### Cross validation for Genre predictors"
   ]
  },
  {
   "cell_type": "code",
   "execution_count": 68,
   "metadata": {},
   "outputs": [],
   "source": [
    "cross_val = {'cross-validate-before': cross_validate( # perform cross-validation\n",
    "        LogisticRegression(class_weight=\"balanced\", solver = \"liblinear\", intercept_scaling=.25 ), #liblinear is better for smaller datasets\n",
    "        before19201[genre], # feature matrix\n",
    "        y_truebefore, # gold labels\n",
    "        cv=10, #number of folds\n",
    "        scoring=['precision', 'recall', 'f1']\n",
    "    ), \n",
    "      'cross-validate-after': cross_validate( # perform cross-validation\n",
    "        LogisticRegression(class_weight=\"balanced\", solver = \"liblinear\", intercept_scaling=.25), #liblinear is better for smaller datasets\n",
    "        after19201[genre], # feature matrix\n",
    "        y_trueafter, # gold labels\n",
    "        cv=10, #number of folds\n",
    "        scoring=['precision', 'recall', 'f1']\n",
    "    )}"
   ]
  },
  {
   "cell_type": "code",
   "execution_count": 69,
   "metadata": {},
   "outputs": [
    {
     "data": {
      "text/html": [
       "<style type=\"text/css\">\n",
       "#T_83b79_row0_col0, #T_83b79_row0_col1, #T_83b79_row1_col2, #T_83b79_row1_col3, #T_83b79_row1_col4 {\n",
       "  background-color: #006837;\n",
       "  color: #f1f1f1;\n",
       "}\n",
       "#T_83b79_row0_col2, #T_83b79_row0_col3, #T_83b79_row0_col4, #T_83b79_row1_col0, #T_83b79_row1_col1 {\n",
       "  background-color: #a50026;\n",
       "  color: #f1f1f1;\n",
       "}\n",
       "</style>\n",
       "<table id=\"T_83b79_\">\n",
       "  <thead>\n",
       "    <tr>\n",
       "      <th class=\"blank level0\" >&nbsp;</th>\n",
       "      <th class=\"col_heading level0 col0\" >fit_time</th>\n",
       "      <th class=\"col_heading level0 col1\" >score_time</th>\n",
       "      <th class=\"col_heading level0 col2\" >test_precision</th>\n",
       "      <th class=\"col_heading level0 col3\" >test_recall</th>\n",
       "      <th class=\"col_heading level0 col4\" >test_f1</th>\n",
       "    </tr>\n",
       "  </thead>\n",
       "  <tbody>\n",
       "    <tr>\n",
       "      <th id=\"T_83b79_level0_row0\" class=\"row_heading level0 row0\" >cross-validate-before</th>\n",
       "      <td id=\"T_83b79_row0_col0\" class=\"data row0 col0\" >0.002105</td>\n",
       "      <td id=\"T_83b79_row0_col1\" class=\"data row0 col1\" >0.003617</td>\n",
       "      <td id=\"T_83b79_row0_col2\" class=\"data row0 col2\" >0.533333</td>\n",
       "      <td id=\"T_83b79_row0_col3\" class=\"data row0 col3\" >0.666667</td>\n",
       "      <td id=\"T_83b79_row0_col4\" class=\"data row0 col4\" >0.574444</td>\n",
       "    </tr>\n",
       "    <tr>\n",
       "      <th id=\"T_83b79_level0_row1\" class=\"row_heading level0 row1\" >cross-validate-after</th>\n",
       "      <td id=\"T_83b79_row1_col0\" class=\"data row1 col0\" >0.001747</td>\n",
       "      <td id=\"T_83b79_row1_col1\" class=\"data row1 col1\" >0.002833</td>\n",
       "      <td id=\"T_83b79_row1_col2\" class=\"data row1 col2\" >0.718333</td>\n",
       "      <td id=\"T_83b79_row1_col3\" class=\"data row1 col3\" >0.700000</td>\n",
       "      <td id=\"T_83b79_row1_col4\" class=\"data row1 col4\" >0.667857</td>\n",
       "    </tr>\n",
       "  </tbody>\n",
       "</table>\n"
      ],
      "text/plain": [
       "<pandas.io.formats.style.Styler at 0x126da6b50>"
      ]
     },
     "execution_count": 69,
     "metadata": {},
     "output_type": "execute_result"
    }
   ],
   "source": [
    "compare_scores(cross_val)"
   ]
  },
  {
   "cell_type": "markdown",
   "metadata": {},
   "source": [
    "# 4. Results and discussion (40 points)"
   ]
  },
  {
   "cell_type": "markdown",
   "metadata": {},
   "source": [
    "### Overview of Supervised Learning Methods\n",
    "In the first section of our code, we decided to try out a couple of supervised learning methods to see how well they can predict whether a book was from America (United States) or Europe. We were curious to see if a supervised model would be able to predict whether a book written after the 1920s was American or European than a book written after the 1920s. As mentioned above, we were curious about this because the modernist movement started in the early 1920s, and it shuffled around literature enough to allow American literature to develop a new and distinct voice, one that has lasted until today. That combined with the end of World War 1, where America came out as a world power for the first time ever.\n",
    "\n",
    "### Classifiers\n",
    "As we mentioned, our hypothesis is that American literature written after 1920 would be more distinct from European works, so we wanted to see how the models would interpret them. We ran a test below using DecisionTree, RandomForest, and LogisticRegression Classifiers on data from before 1920 and after 1920 respectively to see if the models could correctly classify the text by country. We used these three models because we wanted to compare how they would work against each other, in order to make an informed decision about which to use in the rest of our project. We decided to show all the models because it is interesting to see how each model reacts differently to the data, and we thought it might be helpful to show (and possibly back up) our hypothesis.\n",
    "\n",
    "### Parameters\n",
    "In our 3 models, we used different parameters that we found to be helful for these situations. For LogisticRegression, we decided to make the parameter **class_weight = ‘balanced’** because this Balances out the weight of the smaller class to match that of the bigger one – because one of our sets is much smaller than the other, this makes the output much more accurate and precise. We also used **solver = \"liblinear\"**, which is better for smaller datasets. We thought it would be helpful because of our smaller dataset. We also used **fit_intercept=True** and **intercept_scaling=.25** in order to increase the affect of regularization on the smaller dataset. In DecisionTree, we used **min_samples_split=4** after testing a few numbers, this seemed to work best. This change increases the minimun number of samples to split a current nodes.\n",
    "\n",
    "\n",
    "### Testing: Before 1920\n",
    "Our hypothesis for this test particularly, is that models will be able to predict novels written after 1920 better than before, because we believe that writing styles diverged around this time. We started by calculating a baseline of .26, which is the proportion of american literature in all books written before the 1920s in our corpus."
   ]
  },
  {
   "cell_type": "code",
   "execution_count": 70,
   "metadata": {},
   "outputs": [
    {
     "name": "stdout",
     "output_type": "stream",
     "text": [
      "How well novels were predicted whether they were from America or European: Before 1920\n"
     ]
    },
    {
     "data": {
      "text/html": [
       "<style type=\"text/css\">\n",
       "#T_bdf88_row0_col0 {\n",
       "  background-color: #c9e881;\n",
       "  color: #000000;\n",
       "}\n",
       "#T_bdf88_row0_col1 {\n",
       "  background-color: #ec5c3b;\n",
       "  color: #f1f1f1;\n",
       "}\n",
       "#T_bdf88_row0_col2, #T_bdf88_row0_col3, #T_bdf88_row0_col4, #T_bdf88_row1_col0, #T_bdf88_row1_col1 {\n",
       "  background-color: #006837;\n",
       "  color: #f1f1f1;\n",
       "}\n",
       "#T_bdf88_row1_col2, #T_bdf88_row1_col3, #T_bdf88_row1_col4, #T_bdf88_row2_col0, #T_bdf88_row2_col1 {\n",
       "  background-color: #a50026;\n",
       "  color: #f1f1f1;\n",
       "}\n",
       "#T_bdf88_row2_col2 {\n",
       "  background-color: #b1de71;\n",
       "  color: #000000;\n",
       "}\n",
       "#T_bdf88_row2_col3 {\n",
       "  background-color: #fee08b;\n",
       "  color: #000000;\n",
       "}\n",
       "#T_bdf88_row2_col4 {\n",
       "  background-color: #fffebe;\n",
       "  color: #000000;\n",
       "}\n",
       "</style>\n",
       "<table id=\"T_bdf88_\">\n",
       "  <thead>\n",
       "    <tr>\n",
       "      <th class=\"blank level0\" >&nbsp;</th>\n",
       "      <th class=\"col_heading level0 col0\" >fit_time</th>\n",
       "      <th class=\"col_heading level0 col1\" >score_time</th>\n",
       "      <th class=\"col_heading level0 col2\" >test_precision</th>\n",
       "      <th class=\"col_heading level0 col3\" >test_recall</th>\n",
       "      <th class=\"col_heading level0 col4\" >test_f1</th>\n",
       "    </tr>\n",
       "  </thead>\n",
       "  <tbody>\n",
       "    <tr>\n",
       "      <th id=\"T_bdf88_level0_row0\" class=\"row_heading level0 row0\" >DescisionTree</th>\n",
       "      <td id=\"T_bdf88_row0_col0\" class=\"data row0 col0\" >0.149786</td>\n",
       "      <td id=\"T_bdf88_row0_col1\" class=\"data row0 col1\" >0.006492</td>\n",
       "      <td id=\"T_bdf88_row0_col2\" class=\"data row0 col2\" >0.410000</td>\n",
       "      <td id=\"T_bdf88_row0_col3\" class=\"data row0 col3\" >0.533333</td>\n",
       "      <td id=\"T_bdf88_row0_col4\" class=\"data row0 col4\" >0.455952</td>\n",
       "    </tr>\n",
       "    <tr>\n",
       "      <th id=\"T_bdf88_level0_row1\" class=\"row_heading level0 row1\" >RandomForrest</th>\n",
       "      <td id=\"T_bdf88_row1_col0\" class=\"data row1 col0\" >0.219719</td>\n",
       "      <td id=\"T_bdf88_row1_col1\" class=\"data row1 col1\" >0.026383</td>\n",
       "      <td id=\"T_bdf88_row1_col2\" class=\"data row1 col2\" >0.250000</td>\n",
       "      <td id=\"T_bdf88_row1_col3\" class=\"data row1 col3\" >0.116667</td>\n",
       "      <td id=\"T_bdf88_row1_col4\" class=\"data row1 col4\" >0.156667</td>\n",
       "    </tr>\n",
       "    <tr>\n",
       "      <th id=\"T_bdf88_level0_row2\" class=\"row_heading level0 row2\" >Logistic</th>\n",
       "      <td id=\"T_bdf88_row2_col0\" class=\"data row2 col0\" >0.030144</td>\n",
       "      <td id=\"T_bdf88_row2_col1\" class=\"data row2 col1\" >0.002329</td>\n",
       "      <td id=\"T_bdf88_row2_col2\" class=\"data row2 col2\" >0.358333</td>\n",
       "      <td id=\"T_bdf88_row2_col3\" class=\"data row2 col3\" >0.283333</td>\n",
       "      <td id=\"T_bdf88_row2_col4\" class=\"data row2 col4\" >0.305714</td>\n",
       "    </tr>\n",
       "  </tbody>\n",
       "</table>\n"
      ],
      "text/plain": [
       "<pandas.io.formats.style.Styler at 0x1266bb4c0>"
      ]
     },
     "execution_count": 70,
     "metadata": {},
     "output_type": "execute_result"
    }
   ],
   "source": [
    "print(\"How well novels were predicted whether they were from America or European: Before 1920\")\n",
    "\n",
    "compare_scores(scoresbefore)"
   ]
  },
  {
   "cell_type": "markdown",
   "metadata": {},
   "source": [
    "As seen above, the before 1920s data did not have high f1 scores. The highest was DecisionTree with .46 . The other f1 scores are impressively low, at .1 and .31. In comparison to our baseline of .31, the DecisionTree and Logistic Regression performed better than this baseline, while RandomForrest performed worse.\n",
    "\n",
    "It was pretty mixed about whether test precision or test recall was better in each of the 3 models. For example, In randomforrest, test recall was lower than test precision, but it was the opposite for DescisionTree. As always, LogisticRegression had the fastest fit time and score time!\n",
    "\n",
    "Our best performing method was DecisionTree, with test precision of .4, which means out of all the texts predicted as being written by American authors, 40% actually were. Test recall means that out of all the texts actually written by American authors, 53% were predicted accurately. \n",
    "\n",
    "\n",
    "#### Testing: After 1920 \n",
    "We then wanted to compare this to how well novels were predicted after the 1920s. We also started by calculating a baseline of .41, which is the proportion of american literature in all books written after the 1920s in our corpus. It is important to note that there is already a jump in our baseline from before 1920s to after 1920s."
   ]
  },
  {
   "cell_type": "code",
   "execution_count": 71,
   "metadata": {},
   "outputs": [
    {
     "name": "stdout",
     "output_type": "stream",
     "text": [
      "How well novels were predicted whether they were from America or Britain: After 1920\n"
     ]
    },
    {
     "data": {
      "text/html": [
       "<style type=\"text/css\">\n",
       "#T_4eb44_row0_col0 {\n",
       "  background-color: #f8864f;\n",
       "  color: #f1f1f1;\n",
       "}\n",
       "#T_4eb44_row0_col1 {\n",
       "  background-color: #d83128;\n",
       "  color: #f1f1f1;\n",
       "}\n",
       "#T_4eb44_row0_col2, #T_4eb44_row0_col4, #T_4eb44_row2_col0, #T_4eb44_row2_col1, #T_4eb44_row2_col3 {\n",
       "  background-color: #a50026;\n",
       "  color: #f1f1f1;\n",
       "}\n",
       "#T_4eb44_row0_col3 {\n",
       "  background-color: #ea5739;\n",
       "  color: #f1f1f1;\n",
       "}\n",
       "#T_4eb44_row1_col0, #T_4eb44_row1_col1, #T_4eb44_row1_col3, #T_4eb44_row1_col4, #T_4eb44_row2_col2 {\n",
       "  background-color: #006837;\n",
       "  color: #f1f1f1;\n",
       "}\n",
       "#T_4eb44_row1_col2 {\n",
       "  background-color: #d1ec86;\n",
       "  color: #000000;\n",
       "}\n",
       "#T_4eb44_row2_col4 {\n",
       "  background-color: #fee18d;\n",
       "  color: #000000;\n",
       "}\n",
       "</style>\n",
       "<table id=\"T_4eb44_\">\n",
       "  <thead>\n",
       "    <tr>\n",
       "      <th class=\"blank level0\" >&nbsp;</th>\n",
       "      <th class=\"col_heading level0 col0\" >fit_time</th>\n",
       "      <th class=\"col_heading level0 col1\" >score_time</th>\n",
       "      <th class=\"col_heading level0 col2\" >test_precision</th>\n",
       "      <th class=\"col_heading level0 col3\" >test_recall</th>\n",
       "      <th class=\"col_heading level0 col4\" >test_f1</th>\n",
       "    </tr>\n",
       "  </thead>\n",
       "  <tbody>\n",
       "    <tr>\n",
       "      <th id=\"T_4eb44_level0_row0\" class=\"row_heading level0 row0\" >DescisionTree</th>\n",
       "      <td id=\"T_4eb44_row0_col0\" class=\"data row0 col0\" >0.038869</td>\n",
       "      <td id=\"T_4eb44_row0_col1\" class=\"data row0 col1\" >0.003777</td>\n",
       "      <td id=\"T_4eb44_row0_col2\" class=\"data row0 col2\" >0.553333</td>\n",
       "      <td id=\"T_4eb44_row0_col3\" class=\"data row0 col3\" >0.650000</td>\n",
       "      <td id=\"T_4eb44_row0_col4\" class=\"data row0 col4\" >0.568571</td>\n",
       "    </tr>\n",
       "    <tr>\n",
       "      <th id=\"T_4eb44_level0_row1\" class=\"row_heading level0 row1\" >RandomForrest</th>\n",
       "      <td id=\"T_4eb44_row1_col0\" class=\"data row1 col0\" >0.133194</td>\n",
       "      <td id=\"T_4eb44_row1_col1\" class=\"data row1 col1\" >0.016654</td>\n",
       "      <td id=\"T_4eb44_row1_col2\" class=\"data row1 col2\" >0.643333</td>\n",
       "      <td id=\"T_4eb44_row1_col3\" class=\"data row1 col3\" >0.816667</td>\n",
       "      <td id=\"T_4eb44_row1_col4\" class=\"data row1 col4\" >0.703571</td>\n",
       "    </tr>\n",
       "    <tr>\n",
       "      <th id=\"T_4eb44_level0_row2\" class=\"row_heading level0 row2\" >Logistic</th>\n",
       "      <td id=\"T_4eb44_row2_col0\" class=\"data row2 col0\" >0.009099</td>\n",
       "      <td id=\"T_4eb44_row2_col1\" class=\"data row2 col1\" >0.002295</td>\n",
       "      <td id=\"T_4eb44_row2_col2\" class=\"data row2 col2\" >0.700000</td>\n",
       "      <td id=\"T_4eb44_row2_col3\" class=\"data row2 col3\" >0.616667</td>\n",
       "      <td id=\"T_4eb44_row2_col4\" class=\"data row2 col4\" >0.623333</td>\n",
       "    </tr>\n",
       "  </tbody>\n",
       "</table>\n"
      ],
      "text/plain": [
       "<pandas.io.formats.style.Styler at 0x126cc37c0>"
      ]
     },
     "execution_count": 71,
     "metadata": {},
     "output_type": "execute_result"
    }
   ],
   "source": [
    "print(\"How well novels were predicted whether they were from America or Britain: After 1920\")\n",
    "compare_scores(scoresafter)\n"
   ]
  },
  {
   "cell_type": "markdown",
   "metadata": {},
   "source": [
    "As seen above, all the F1 scores improved while using the after 1920 data. We were suprised by how much RandomForrest and LogisticRegression changed. This big jump is definitely influenced by the jump in the baseline as well, but we believe the jump is bigger than to be explained by just that. All F1 scores were above our baseline of ~.41, with RandomForrest, it jumped from predicting before 1920s with an F1 score of .13, to after 1920 with an F1 score of ~.70. This was the biggest jump we saw in the classifiers.   \n",
    "\n",
    "Our best performing method was RandomForrest, with test precision of ~.70, which means out of all the texts predicted as being written by American authors, ~61% actually were. Test recall means that out of all the texts actually written by American authors, ~90% were predicted accurately. The f1 score (integrated both scores) was ~.70, which is very high, especially compared to the baseline.\n",
    "\n",
    "##### Increase in Precision and Recall Overall\n",
    "Both the test precision and test recall improved in every model. We hypothesize this is because American literature diverged a lot after 1920, and became easier to distinguish between European and American literature. we are a little weary though to say that this proves our hypothesis, because as we will discuss later in the limitations section, the dataset is really small, especially after the 1920s (under 50 novels in our corpus were written after 1920). we are worried that it may not be completely representative. But again, we will go more into depth about this worry in future sections.\n",
    "\n",
    "#### Testing: Entire Corpus\n",
    "After this finding, we were curious to see how the models would react to all of our data combined. Since there would be significantly more data, we hypothesized that f1 results would increase, because with more data, the models would be able to make better decisions. As you can guess, we first calculated our baseline of .35, which is the proportion of american literature in all books in our corpus."
   ]
  },
  {
   "cell_type": "code",
   "execution_count": 72,
   "metadata": {},
   "outputs": [
    {
     "name": "stdout",
     "output_type": "stream",
     "text": [
      "How well novels were predicted whether they were from America or Britain: All Corpus\n"
     ]
    },
    {
     "data": {
      "text/html": [
       "<style type=\"text/css\">\n",
       "#T_b93fc_row0_col0 {\n",
       "  background-color: #36a657;\n",
       "  color: #f1f1f1;\n",
       "}\n",
       "#T_b93fc_row0_col1 {\n",
       "  background-color: #f16640;\n",
       "  color: #f1f1f1;\n",
       "}\n",
       "#T_b93fc_row0_col2, #T_b93fc_row1_col3, #T_b93fc_row1_col4, #T_b93fc_row2_col0, #T_b93fc_row2_col1 {\n",
       "  background-color: #a50026;\n",
       "  color: #f1f1f1;\n",
       "}\n",
       "#T_b93fc_row0_col3, #T_b93fc_row0_col4, #T_b93fc_row1_col0, #T_b93fc_row1_col1, #T_b93fc_row1_col2 {\n",
       "  background-color: #006837;\n",
       "  color: #f1f1f1;\n",
       "}\n",
       "#T_b93fc_row2_col2 {\n",
       "  background-color: #c41e27;\n",
       "  color: #f1f1f1;\n",
       "}\n",
       "#T_b93fc_row2_col3 {\n",
       "  background-color: #e9f6a1;\n",
       "  color: #000000;\n",
       "}\n",
       "#T_b93fc_row2_col4 {\n",
       "  background-color: #c82227;\n",
       "  color: #f1f1f1;\n",
       "}\n",
       "</style>\n",
       "<table id=\"T_b93fc_\">\n",
       "  <thead>\n",
       "    <tr>\n",
       "      <th class=\"blank level0\" >&nbsp;</th>\n",
       "      <th class=\"col_heading level0 col0\" >fit_time</th>\n",
       "      <th class=\"col_heading level0 col1\" >score_time</th>\n",
       "      <th class=\"col_heading level0 col2\" >test_precision</th>\n",
       "      <th class=\"col_heading level0 col3\" >test_recall</th>\n",
       "      <th class=\"col_heading level0 col4\" >test_f1</th>\n",
       "    </tr>\n",
       "  </thead>\n",
       "  <tbody>\n",
       "    <tr>\n",
       "      <th id=\"T_b93fc_level0_row0\" class=\"row_heading level0 row0\" >DescisionTree</th>\n",
       "      <td id=\"T_b93fc_row0_col0\" class=\"data row0 col0\" >0.255316</td>\n",
       "      <td id=\"T_b93fc_row0_col1\" class=\"data row0 col1\" >0.008158</td>\n",
       "      <td id=\"T_b93fc_row0_col2\" class=\"data row0 col2\" >0.592262</td>\n",
       "      <td id=\"T_b93fc_row0_col3\" class=\"data row0 col3\" >0.576667</td>\n",
       "      <td id=\"T_b93fc_row0_col4\" class=\"data row0 col4\" >0.565495</td>\n",
       "    </tr>\n",
       "    <tr>\n",
       "      <th id=\"T_b93fc_level0_row1\" class=\"row_heading level0 row1\" >RandomForrest</th>\n",
       "      <td id=\"T_b93fc_row1_col0\" class=\"data row1 col0\" >0.289841</td>\n",
       "      <td id=\"T_b93fc_row1_col1\" class=\"data row1 col1\" >0.033467</td>\n",
       "      <td id=\"T_b93fc_row1_col2\" class=\"data row1 col2\" >0.830000</td>\n",
       "      <td id=\"T_b93fc_row1_col3\" class=\"data row1 col3\" >0.403333</td>\n",
       "      <td id=\"T_b93fc_row1_col4\" class=\"data row1 col4\" >0.520476</td>\n",
       "    </tr>\n",
       "    <tr>\n",
       "      <th id=\"T_b93fc_level0_row2\" class=\"row_heading level0 row2\" >Logistic</th>\n",
       "      <td id=\"T_b93fc_row2_col0\" class=\"data row2 col0\" >0.038495</td>\n",
       "      <td id=\"T_b93fc_row2_col1\" class=\"data row2 col1\" >0.002279</td>\n",
       "      <td id=\"T_b93fc_row2_col2\" class=\"data row2 col2\" >0.607976</td>\n",
       "      <td id=\"T_b93fc_row2_col3\" class=\"data row2 col3\" >0.500000</td>\n",
       "      <td id=\"T_b93fc_row2_col4\" class=\"data row2 col4\" >0.523752</td>\n",
       "    </tr>\n",
       "  </tbody>\n",
       "</table>\n"
      ],
      "text/plain": [
       "<pandas.io.formats.style.Styler at 0x12a0ced60>"
      ]
     },
     "execution_count": 72,
     "metadata": {},
     "output_type": "execute_result"
    }
   ],
   "source": [
    "print(\"How well novels were predicted whether they were from America or Britain: All Corpus\")\n",
    "compare_scores(scoresall)"
   ]
  },
  {
   "cell_type": "markdown",
   "metadata": {},
   "source": [
    "Much to our surprise, the f1 scores for all the data (both before and after the 1920s) did not increase compared to the after 1920s trained models. All the f1 scores seemed to be between what each model had for before 1920s and after 1920s. \n",
    "\n",
    "This also does makes sense, especially if literature was different after the 1920s because when combining all the books, our models are able to maybe see the difference between the after 1920s data, and may have a harder time with the before 1920s books, so it would make sense if it were a mix of the two numbers. \n",
    "\n",
    "Our best performing method with all the data was DecisionTree, with test precision of ~.59, which means out of all the texts predicted as being written by American authors, ~59% actually were. Test recall means that out of all the texts actually written by American authors, ~.58% were predicted accurately. The f1 score (integrated both scores) was ~.57, which is very high, especially compared to the baseline.\n",
    "\n",
    "### Analyzing Split between American and European Literature Counts\n",
    "We then decided to look at how our corpus was split between American and European literature to better understand why the models might be working the way they were."
   ]
  },
  {
   "cell_type": "code",
   "execution_count": 73,
   "metadata": {},
   "outputs": [
    {
     "name": "stdout",
     "output_type": "stream",
     "text": [
      "\n",
      "Counts of works in  pre-1920 set:\n",
      "0 = not from America, 1 = from America\n",
      "0    81\n",
      "1    28\n",
      "Name: inAmerica, dtype: int64\n",
      "\n",
      "Counts of works in  post-1920 set:\n",
      "0 = not from America, 1 = from America\n",
      "1    27\n",
      "0    19\n",
      "Name: inAmerica, dtype: int64\n",
      "\n",
      "Counts of works in  total used corpus:\n",
      "0 = not from America, 1 = from America\n",
      "0    100\n",
      "1     55\n",
      "Name: inAmerica, dtype: int64\n"
     ]
    },
    {
     "data": {
      "image/png": "[encoded data removed]",
      "text/plain": [
       "<Figure size 432x288 with 1 Axes>"
      ]
     },
     "metadata": {
      "needs_background": "light"
     },
     "output_type": "display_data"
    }
   ],
   "source": [
    "print_counts(before1920, 'pre-1920 set')\n",
    "print_counts(after1920, 'post-1920 set')\n",
    "print_counts(full_data, 'total used corpus')\n",
    "graph2 = create_corpusgraphs()"
   ]
  },
  {
   "cell_type": "markdown",
   "metadata": {},
   "source": [
    "As we can see, there is a higher proportion of American literature in the post 1920 data set than there was in the pre 1920s dataset. This lead to an increased baseline, which we addressed above. It is also apparent that there are significantly more novels in the pre 1920 set than in the post 1920 set. In learning about modernism, we learned about how the exact year that the modernism movement started is argued from expert to expert. Some say 1922, others say later in the 1920s, but all agree that the 1920s was an important decade for modernism. In our corpus, it was helpful to have the lowest year possible (1920 instead of 1922 or 1928), in order to have more novels in our post 1920 data set. The pre 1920s data is almost twice as large as the post 1920s data, which (as detailed in our limitations section) was a constraining factor in the level of analysis we could do with the dataset. "
   ]
  },
  {
   "cell_type": "markdown",
   "metadata": {},
   "source": [
    "### Genre as a Predictor "
   ]
  },
  {
   "cell_type": "markdown",
   "metadata": {},
   "source": [
    "In this following section, we wanted to see the impact of genre, rather than words, on classifying texts as either European or American for both our before 1920 dataset and our after 1920 dataset. To do this, we fit two logistic regression models, one for our dataset of texts written before 1920 and one for our dataset of texts written after 1920. Our independent (X) variables were the genres of each novel, and our dependent (Y) variable was the true label of whether a book was written by a European vs. American author. Because our datasets are on the smaller side and generally unbalanced, we added the parameters class_weight=”balanced” and “solver = “liblinear” to both models in order to moderate this issue and slightly improve our F1 scores. "
   ]
  },
  {
   "cell_type": "markdown",
   "metadata": {},
   "source": [
    "#### Genre: Before 1920 Dataset\n",
    "\n",
    "These are the results we received for our before 1920 dataset:"
   ]
  },
  {
   "cell_type": "code",
   "execution_count": 74,
   "metadata": {},
   "outputs": [
    {
     "name": "stdout",
     "output_type": "stream",
     "text": [
      "Confusion matrix (before 1920):\n",
      "[[64 17]\n",
      " [ 9 19]]\n"
     ]
    }
   ],
   "source": [
    "# Confusion matrix\n",
    "print(\"Confusion matrix (before 1920):\")\n",
    "print(confusion_matrix(y_truebefore, y_predbefore))"
   ]
  },
  {
   "cell_type": "markdown",
   "metadata": {},
   "source": [
    "The confusion matrix shows that out of 109 total texts, there are 64 texts correctly classified and 9 texts incorrectly classified as being written by a European author. There are also 19 texts correctly classified and 17 texts incorrectly classified as being written by an American author. "
   ]
  },
  {
   "cell_type": "code",
   "execution_count": 75,
   "metadata": {},
   "outputs": [
    {
     "name": "stdout",
     "output_type": "stream",
     "text": [
      "\n",
      "\n",
      "How well novels were predicted whether they were from America or Britain: Before 1920\n",
      "0 = not from America, 1 = from America\n",
      "              precision    recall  f1-score   support\n",
      "\n",
      "           0       0.88      0.79      0.83        81\n",
      "           1       0.53      0.68      0.59        28\n",
      "\n",
      "    accuracy                           0.76       109\n",
      "   macro avg       0.70      0.73      0.71       109\n",
      "weighted avg       0.79      0.76      0.77       109\n",
      "\n"
     ]
    }
   ],
   "source": [
    "print(\"\\n\\nHow well novels were predicted whether they were from America or Britain: Before 1920\")\n",
    "print('0 = not from America, 1 = from America')\n",
    "print(classification_report(y_truebefore, y_predbefore))"
   ]
  },
  {
   "cell_type": "markdown",
   "metadata": {},
   "source": [
    "Based on the classification report, we see that the precision score for books classified as American is 0.53, indicating that out of all the predictions classified as American, 53% were actually American. The recall score of 0.68 means that out of the texts actually written by American authors, only 68% were classified correctly. Thus, the F1 score, a combination of the recall and precision scores, is 0.59. "
   ]
  },
  {
   "cell_type": "markdown",
   "metadata": {},
   "source": [
    "The precision score for texts classified as European is 0.88, meaning that out of all the books predicted to be European, 88% actually are. The recall score is slightly lower, at 0.79, meaning that out of all the books actually written by European authors, only 79% actually were predicted as such. Thus, the F1 score is also quite high, at 0.83."
   ]
  },
  {
   "cell_type": "markdown",
   "metadata": {},
   "source": [
    "We see from these results that our logistic model does much better with the European novels than the American novels, as all of the recall, precision, and F1 scores are higher. Using genre alone as a predictor, the classifier had a large number of false positives and negatives. Because a relatively high percentage of American novels are being misclassified based on their genre, our findings do seem to align with our hypothesis that American novels before 1920 had similar genres to those of European books."
   ]
  },
  {
   "cell_type": "markdown",
   "metadata": {},
   "source": [
    "#### Genre: After 1920 Dataset\n",
    "\n",
    "These are the results we received for our after 1920 dataset:\n",
    "\n"
   ]
  },
  {
   "cell_type": "markdown",
   "metadata": {},
   "source": [
    "The confusion matrix shows that out of 109 total texts, there are 64 texts correctly classified and 14 texts incorrectly classified as being written by a European author. There are also 19 texts correctly classified and 17 texts incorrectly classified as being written by an American author. "
   ]
  },
  {
   "cell_type": "code",
   "execution_count": 76,
   "metadata": {},
   "outputs": [
    {
     "name": "stdout",
     "output_type": "stream",
     "text": [
      "\n",
      "How well novels were predicted whether they were from America or Britain: After 1920s\n",
      "0 = not from America, 1 = from America\n",
      "              precision    recall  f1-score   support\n",
      "\n",
      "           0       0.78      0.74      0.76        19\n",
      "           1       0.82      0.85      0.84        27\n",
      "\n",
      "    accuracy                           0.80        46\n",
      "   macro avg       0.80      0.79      0.80        46\n",
      "weighted avg       0.80      0.80      0.80        46\n",
      "\n"
     ]
    }
   ],
   "source": [
    "print(\"\\nHow well novels were predicted whether they were from America or Britain: After 1920s\")\n",
    "print('0 = not from America, 1 = from America')\n",
    "print(classification_report(y_trueafter, y_predafter))"
   ]
  },
  {
   "cell_type": "markdown",
   "metadata": {},
   "source": [
    "Based on the classification report, the precision score for books classified as American is 0.82, which means that out of all the predictions classified as American, 82% were actually American. The recall score of 0.85 means that out of the texts actually written by American authors, 85% were classified correctly. The F1 score is quite high, at 0.83 since the recall and precision scores are also high. "
   ]
  },
  {
   "cell_type": "markdown",
   "metadata": {},
   "source": [
    "For books classified as European, the precision score is 0.78 and the recall score is 0.74, resulting in an F1 score of 0.76. This F1 score is lower than that of the American classified books, though it is still relatively high. \n",
    "Overall, we fitted a better model for books written after 1920, indicating that genre is a better predictor of author nationality for this set of books. The high scores for American books after 1920 could also provide support to our hypothesis that American books grew more distinct in genre after 1920."
   ]
  },
  {
   "cell_type": "code",
   "execution_count": 77,
   "metadata": {},
   "outputs": [
    {
     "name": "stdout",
     "output_type": "stream",
     "text": [
      "Before 1920: How indicative are genres at whether a book has an American vs. European author? \n"
     ]
    },
    {
     "data": {
      "image/png": "[encoded data removed]",
      "text/plain": [
       "<Figure size 432x288 with 1 Axes>"
      ]
     },
     "metadata": {
      "needs_background": "light"
     },
     "output_type": "display_data"
    }
   ],
   "source": [
    "print(\"Before 1920: How indicative are genres at whether a book has an American vs. European author? \")\n",
    "dfbefore1920 = pd.DataFrame({'coef':modeltestbefore.coef_[0]}, index=genre)\n",
    "dfbefore1920.sort_values(by='coef').plot.barh(legend=False);"
   ]
  },
  {
   "cell_type": "markdown",
   "metadata": {},
   "source": [
    "#### Before 1920 - Genre Analysis\n",
    "Based on the above bar chart for novels written before 1920, coming-of-age, mystery, and children are good positive indicators for whether a book is classified as American. Adventure and horror are good indicators for whether a book is classified as European. "
   ]
  },
  {
   "cell_type": "code",
   "execution_count": 78,
   "metadata": {},
   "outputs": [
    {
     "name": "stdout",
     "output_type": "stream",
     "text": [
      "After 1920: How indicative are genres at whether a book has an American vs. European author? \n"
     ]
    },
    {
     "data": {
      "image/png": "[encoded data removed]",
      "text/plain": [
       "<Figure size 432x288 with 1 Axes>"
      ]
     },
     "metadata": {
      "needs_background": "light"
     },
     "output_type": "display_data"
    }
   ],
   "source": [
    "print(\"After 1920: How indicative are genres at whether a book has an American vs. European author? \")\n",
    "dfafter1920 = pd.DataFrame({'coef':modeltestafter.coef_[0]}, index=genre)\n",
    "dfafter1920.sort_values(by='coef').plot.barh(legend=False);"
   ]
  },
  {
   "cell_type": "markdown",
   "metadata": {},
   "source": [
    "#### After 1920 - Genre Analysis\n",
    "Based on the above bar chart for novels written after 1920, tragedy, adventure, and historical become positive indicators for whether a book is classified as American. Mystery becomes a strong indicator for whether books are classified as European. \n",
    "\n",
    "It's interesting to note the emergence of some genres and decrease in popularity of others in American literature and European literature. For instance, before 1920, mystery has the second most signifiant positive influence over whether a text is American. However, after 1920, it becomes a significant indicator of whether a text is European. After 1920, the manners and regency genres seem to have have no influence over whether a text is American or European. However, for the before 1920 dataset, they are indicators that books were written by European authors. This could be that after 1920, these genres fell out of popularity with authors of either American or European origin. "
   ]
  },
  {
   "cell_type": "markdown",
   "metadata": {},
   "source": [
    "### Genre Cross Validation\n",
    "\n",
    "An important note about the analysis we do in terms of genre (also discussed in the limitations section): we are training and testing on the same dataset due to the smaller size of our datasets (espcially the post-1920 dataset, which only includes 46 total volumes). In an attempt to mitigate this, we decided to also perform cross-validation as seen below and compare these results to our non-cross-validated results."
   ]
  },
  {
   "cell_type": "code",
   "execution_count": 79,
   "metadata": {},
   "outputs": [
    {
     "data": {
      "text/html": [
       "<style type=\"text/css\">\n",
       "#T_9f369_row0_col0, #T_9f369_row0_col1, #T_9f369_row1_col2, #T_9f369_row1_col3, #T_9f369_row1_col4 {\n",
       "  background-color: #006837;\n",
       "  color: #f1f1f1;\n",
       "}\n",
       "#T_9f369_row0_col2, #T_9f369_row0_col3, #T_9f369_row0_col4, #T_9f369_row1_col0, #T_9f369_row1_col1 {\n",
       "  background-color: #a50026;\n",
       "  color: #f1f1f1;\n",
       "}\n",
       "</style>\n",
       "<table id=\"T_9f369_\">\n",
       "  <thead>\n",
       "    <tr>\n",
       "      <th class=\"blank level0\" >&nbsp;</th>\n",
       "      <th class=\"col_heading level0 col0\" >fit_time</th>\n",
       "      <th class=\"col_heading level0 col1\" >score_time</th>\n",
       "      <th class=\"col_heading level0 col2\" >test_precision</th>\n",
       "      <th class=\"col_heading level0 col3\" >test_recall</th>\n",
       "      <th class=\"col_heading level0 col4\" >test_f1</th>\n",
       "    </tr>\n",
       "  </thead>\n",
       "  <tbody>\n",
       "    <tr>\n",
       "      <th id=\"T_9f369_level0_row0\" class=\"row_heading level0 row0\" >cross-validate-before</th>\n",
       "      <td id=\"T_9f369_row0_col0\" class=\"data row0 col0\" >0.002105</td>\n",
       "      <td id=\"T_9f369_row0_col1\" class=\"data row0 col1\" >0.003617</td>\n",
       "      <td id=\"T_9f369_row0_col2\" class=\"data row0 col2\" >0.533333</td>\n",
       "      <td id=\"T_9f369_row0_col3\" class=\"data row0 col3\" >0.666667</td>\n",
       "      <td id=\"T_9f369_row0_col4\" class=\"data row0 col4\" >0.574444</td>\n",
       "    </tr>\n",
       "    <tr>\n",
       "      <th id=\"T_9f369_level0_row1\" class=\"row_heading level0 row1\" >cross-validate-after</th>\n",
       "      <td id=\"T_9f369_row1_col0\" class=\"data row1 col0\" >0.001747</td>\n",
       "      <td id=\"T_9f369_row1_col1\" class=\"data row1 col1\" >0.002833</td>\n",
       "      <td id=\"T_9f369_row1_col2\" class=\"data row1 col2\" >0.718333</td>\n",
       "      <td id=\"T_9f369_row1_col3\" class=\"data row1 col3\" >0.700000</td>\n",
       "      <td id=\"T_9f369_row1_col4\" class=\"data row1 col4\" >0.667857</td>\n",
       "    </tr>\n",
       "  </tbody>\n",
       "</table>\n"
      ],
      "text/plain": [
       "<pandas.io.formats.style.Styler at 0x126fde4f0>"
      ]
     },
     "execution_count": 79,
     "metadata": {},
     "output_type": "execute_result"
    }
   ],
   "source": [
    "compare_scores(cross_val)"
   ]
  },
  {
   "cell_type": "markdown",
   "metadata": {},
   "source": [
    "“Cross-validate-before” displays the scores we received after running cross-validation on the logistic regression model fit to the before-1920 dataset. \n",
    "\n",
    "“Cross-validate-after” displays the scores we received after running cross-validation on the logistic regression model fit to the after-1920 dataset. \n",
    "\n",
    "They are displayed in the same chart in order to compare them better. "
   ]
  },
  {
   "cell_type": "markdown",
   "metadata": {},
   "source": [
    "Before 1920:\n",
    "- Non-cross validated F1: 0.59\n",
    "- cross validated F1: 0.57\n",
    "\n",
    "After 1920: \n",
    "- Non-cross validated F1: 0.84\n",
    "- cross validated F1: 0.66\n",
    "\n",
    "From our cross-validation results, we see that the F1 score is only slightly smaller for the before-1920 dataset. The F1 score is quite a bit higher for the after-1920 dataset. We expected that the cross-validated F1 scores would be smaller, as we are testing on a different set of data. It also seems to make sense that our non-cross and cross-validated F1 scores had a bigger difference after 1920 had a bigger difference, as the results were likely skewed due to the especially small sample of volumes. However, these cross-validated scores still show that the F1 score is higher for works written after 1920. "
   ]
  },
  {
   "cell_type": "markdown",
   "metadata": {},
   "source": [
    "### KMeans Clustering for Genre Analysis\n",
    "\n",
    "As described in our methodology, we decided to cluster the data as a form of exploratory analysis to visualize clusters of genres in each corpus. We started by clustering the before 1920 dataset using KMeans. After exploring the dataset, we determined 5 clusters worked well with the after 1920s data.\n",
    "\n",
    "We found that the KMeans clustering identifies the four most distinct genres and clusters them, and then groups the remaining texts into a mixed bag. The results are shown below, listed in order from top to bottom, the largest to smallest categories.\n",
    "* Detective\n",
    "* Horror\n",
    "* The remaining categories\n",
    "* Romantic\n",
    "* Historical\n",
    "\n",
    "We then wanted to do a similar analysis on the after 1920 dataset. We decided to keep the cluster count at 5 as to test one change at a time and see what differed between the two datasets. The results are shown below, listed in order from top to bottom, the largest to smallest categories. It seems to make sense that Scifi was not clustered in the before 1920 dataset because it was not yet conventionalized as a genre, and thus there were likely not many books written then. We did, however, find that the clustering algorithm distinguished between pure sci-fi and sci-fi adventure. It is interesting that Romantic and Historical novels were not clustered together in the after 1920s dataset; we assume this is because the dataset is too small, and they were simply not represented significantly.\n",
    "\n",
    "The ordered categories:\n",
    "* Detective\n",
    "* The remaining categories\n",
    "* Scifi \n",
    "* Horror/gothic \n",
    "* Scifi adventure\n",
    "\n",
    "Overall, the clustering did make salient the vast volume of detective fiction in our corpus. This does indicate that the sampling done to create the corpus was skewed toward detective novels, which makes sense given the sampling instructions used to create the corpus. "
   ]
  },
  {
   "cell_type": "markdown",
   "metadata": {},
   "source": [
    "### Limitations\n",
    "\n",
    "#### Test/Training Data \n",
    "\n",
    "As mentioned throughout, there were quite a bit of limitations affecting the success and significance of our results, the biggest of those being input data reliability and dataset size. The size of the class corpus was limited - without removing any unnecessary items from the set, the total count reached up to only about 180 novels. This ended up harming our ability to test and train on different data when looking at genre, because splitting up our already small sets (of 109 and 46 items respectively) would not produce any interpretable results.\n",
    "\n",
    "#### Corpus Size and Input Imbalance\n",
    "\n",
    "Not only was our corpus dataset skewed towards having a significant amount more works from before 1920, as mentioned above, it also had many more works coming from the UK/Europe than from America. We had 109 works from before 1920, and only 46 from after. \n",
    "\n",
    "In the before 1920 set, 88 were non-American, and 28 were American. In the post-1920 set, 19 were non-American, and 27 were American. The following graph is a visual representation of the printouts below."
   ]
  },
  {
   "cell_type": "code",
   "execution_count": 80,
   "metadata": {},
   "outputs": [
    {
     "name": "stdout",
     "output_type": "stream",
     "text": [
      "\n",
      "Counts of works in  pre-1920 set:\n",
      "0 = not from America, 1 = from America\n",
      "0    81\n",
      "1    28\n",
      "Name: inAmerica, dtype: int64\n",
      "\n",
      "Counts of works in  post-1920 set:\n",
      "0 = not from America, 1 = from America\n",
      "1    27\n",
      "0    19\n",
      "Name: inAmerica, dtype: int64\n",
      "\n",
      "Counts of works in  total used corpus:\n",
      "0 = not from America, 1 = from America\n",
      "0    100\n",
      "1     55\n",
      "Name: inAmerica, dtype: int64\n"
     ]
    }
   ],
   "source": [
    "print_counts(before1920, 'pre-1920 set')\n",
    "print_counts(after1920, 'post-1920 set')\n",
    "print_counts(full_data, 'total used corpus')"
   ]
  },
  {
   "cell_type": "code",
   "execution_count": 81,
   "metadata": {},
   "outputs": [
    {
     "data": {
      "image/png": "[encoded data removed]",
      "text/plain": [
       "<Figure size 432x288 with 1 Axes>"
      ]
     },
     "metadata": {
      "needs_background": "light"
     },
     "output_type": "display_data"
    }
   ],
   "source": [
    "graph = create_corpusgraphs()"
   ]
  },
  {
   "cell_type": "markdown",
   "metadata": {},
   "source": [
    "In terms of testing our classification models, having so few from America in the before 1920 set is a large limitation. This makes our results when predicting on the after 1920 set less reliable, as it’s entirely possible that there weren’t enough American novels to train our models on (and make our difference in F1 score meaningful). While it is true that having a larger set to train on is a good thing, the imbalance in breakdown by country of our set rendered this process more difficult.\n",
    "\n",
    "#### Translations, and Testing and Training\n",
    "Translations may have additionally affected the classifications we ended up getting, especially depending on the nationality of the translator. Generally, however, we assumed that these would fit into the European category, though they make up a smaller population (than the novels written in English originally). \n",
    "\n",
    "#### Genre Classification & Overrepresentation of Horror/Detective Novels\n",
    "In addition, part of our project involved predicting American vs. European authors based on genre. However, some genres contained many more works than others. When we created the corpus, one of the main requirements was adding either a detective or horror novel. Thus, the volume of horror and detective novels in the corpus is much greater than the volume of other novels. This, combined with the generally low number of texts in our corpus, likely skews much of our predictions that are based on genre and our results should not be taken alone as a true determinant of which genres are better predictors of American vs. European works.  \n",
    "\n",
    "#### Reliability of Class Metadata\n",
    "Another large limitation was the reliability of the metadata created by our class. Simply from going through the data a bit by hand, it was clear that there was some mislabelling, especially with the genre categorizations. We found certain instances of genres left blank, as well as certain genres that should’ve been marked as being a genre when they were not. It was entirely possible, also, that the years were marked down wrong, simply by human error or because the dates were historically incorrect; the same goes for country of origin. In the case of the years, this may have skewed our data one way or the other, depending on if the data was mislabelled enough to affect the sizes of the two before and after 1920 datasets. It is likely this was not the case, but the genre metadata seemed to be skewed enough to alter our results in a limited way, and to possibly make some gold labels incorrect."
   ]
  },
  {
   "cell_type": "markdown",
   "metadata": {},
   "source": [
    "# 5. Reflection (10 points)"
   ]
  },
  {
   "cell_type": "markdown",
   "metadata": {},
   "source": [
    "#### Overall Thoughts and Reflections on Results and Limitations\n",
    "This assignment was definitely a worthwhile challenge for us. One of the difficult parts of this assignment to navigate was the time constraint; we quickly realized that one week was not a lot of time to carry out an entire research project, and we needed to limit the scope of our work enough to make it manageable. Another unforeseen challenge was passing the code around the three people in our group. We weren’t entirely sure how to use git, so we decided on emailing code files back and forth. This became quite messy toward the conclusion of this project, and in the future we hope to be able to utilize git to make the process more efficient. We were, however, very proud of the work we were able to come up with in this amount of time, and hope that this is reflected in our discussion!\n",
    "\n",
    "Furthermore, as mentioned earlier in the limitations section of this project, our research question required us to split the already small dataset into even smaller groups. This meant that we had to forgo best-practices of splitting our data into test/train tests when analyzing the effects of genre on author nationality in order to create classification matrices/. Training and testing on the same datasets definitely skewed our results, since it likely caused our classifiers to perform better than it would have had it been run on the test data. \n",
    "\n",
    "#### Research Extensions and Ideas\n",
    "A follow up we were interested in researching is how Canadian literature differed from American literature and European literature. We hypothesize that during certain world events, Canadian literature would lean more towards American or European literature. Again, this was not possible to analyze with this corpus due to the minimal amount of Canadian literature. \n",
    "\n",
    "Another method that we wanted to try but did not have enough time to do so was comparing the male vs. female gendered words between works written before 1920 and works written after 1920. We think that after the feminist movement, it is entirely possible that the amount of female-centered works increased significantly. Furthermore, we would hypothesize that the amount of works written by female authors that ended up published would be significantly higher after 1920. Though this may have been an area of study slightly out of our original research scope, it nonetheless would have been an interesting way to continue our work in understanding the effects the cultural shift that occurred in 1920 may have impacted literary fiction. \n",
    "\n",
    "We could have also decided to choose another decade/year other than 1920. Though the year certainly marked a sort of turning point in a culmination of different events, it may have been equally interesting to see what sort of changes the year 1930, 1910, or 1940 brought about in literature trends, given that we had a more comprehensive corpus dataset. \n",
    "\n",
    "We think it would be interesting to analyze literature during financial crises in America and Europe, and see if the sentiment is more negative in books written during those periods. This would have been an interesting question to test out splitting our data onto separate years, as mentioned above.  We looked into this question, but were unable to pursue it further because of the limited corpus. Dictionary-based sentiment analysis is itself quite limited because it relies heavily on a human-made dictionary to parse out various emotions. Thus, many emotions, such as sarcasm, are not able to be analyzed. These limitations would definitely have also been something we would have needed to consider before taking this route. \n",
    "\n",
    "Overall, we are pleased with the results of our experiment, and feel that we were able to mobilize an organized project in the amount of time provided. "
   ]
  },
  {
   "cell_type": "markdown",
   "metadata": {},
   "source": [
    "# 6. Resources consulted (0 points, but -5 if missing)"
   ]
  },
  {
   "cell_type": "markdown",
   "metadata": {},
   "source": [
    "* Pandas Docs: https://datatofish.com/import-csv-file-python-using-pandas/ \n",
    "   \n",
    "* More Pandas Docs: https://pandas.pydata.org/docs/reference/api/pandas.read_csv.html \n",
    "* For creating the before/after-1920 column: https://stackoverflow.com/questions/21702342/creating-a-new-column-based-on-if-elif-else-condition\n",
    "* Split dataframe into 2 dataframes based on some condition: https://stackoverflow.com/questions/61784255/split-a-pandas-dataframe-into-two-dataframes-efficiently-based-on-some-condition\n",
    "* MP2 provided code for classifiers and compare_scores code, by Professor Wilkens\n",
    "* HW 5 Code, mainly for KMeans\n",
    "* https://stackoverflow.com/questions/23307301/replacing-column-values-in-a-pandas-dataframe\n",
    "* Trying to figure out why F score was so low, didn't really use but consulted: https://stackoverflow.com/questions/31677218/scikit-f-score-metric-error\n",
    "* https://towardsdatascience.com/choosing-performance-metrics-61b40819eae1\n",
    "* Learning more about cross validation and why it’s important: https://towardsdatascience.com/cross-validation-430d9a5fee22 \n",
    "* Chart plotting help: https://www.geeksforgeeks.org/plotting-multiple-bar-charts-using-matplotlib-in-python/\n",
    "* Understanding how to read a classification report: https://towardsdatascience.com/choosing-performance-metrics-61b40819eae1\n",
    "* Looking more into Random Forest: https://towardsdatascience.com/understanding-random-forest-58381e0602d2\n",
    "* Understanding Logistic Regression more: https://www.geeksforgeeks.org/understanding-logistic-regression/ \n",
    "* Clustering work: https://www.codegrepper.com/code-examples/python/How+to+get+values+in+each+cluster\n",
    "* Katherine's SP 21 2950 project code, with approval from team members (Jiali Chen, Chenchen Lu, Larina Fu, Katherine Yao)\n"
   ]
  },
  {
   "cell_type": "markdown",
   "metadata": {},
   "source": [
    "# 7. Responsibility statement (0 points, but -5 if missing)\n",
    "**See separate CMS assignment 'MP 03: Responsibility statement'.**"
   ]
  },
  {
   "cell_type": "code",
   "execution_count": null,
   "metadata": {},
   "outputs": [],
   "source": []
  },
  {
   "cell_type": "code",
   "execution_count": null,
   "metadata": {},
   "outputs": [],
   "source": []
  }
 ],
 "metadata": {
  "kernelspec": {
   "display_name": "Python 3 (ipykernel)",
   "language": "python",
   "name": "python3"
  },
  "language_info": {
   "codemirror_mode": {
    "name": "ipython",
    "version": 3
   },
   "file_extension": ".py",
   "mimetype": "text/x-python",
   "name": "python",
   "nbconvert_exporter": "python",
   "pygments_lexer": "ipython3",
   "version": "3.10.0"
  }
 },
 "nbformat": 4,
 "nbformat_minor": 4
}
